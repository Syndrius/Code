{
 "cells": [
  {
   "cell_type": "code",
   "execution_count": 1,
   "id": "unexpected-decimal",
   "metadata": {},
   "outputs": [],
   "source": [
    "from sympy import *\n",
    "from sympy.solvers.ode.systems import dsolve_system\n",
    "import numpy as np\n",
    "import matplotlib.pyplot as plt"
   ]
  },
  {
   "cell_type": "code",
   "execution_count": 2,
   "id": "accessible-segment",
   "metadata": {},
   "outputs": [
    {
     "data": {
      "text/latex": [
       "$\\displaystyle e^{- c_{x}^{2} - c_{y}^{2} - c_{z}^{2}}$"
      ],
      "text/plain": [
       "exp(-c_x**2 - c_y**2 - c_z**2)"
      ]
     },
     "metadata": {},
     "output_type": "display_data"
    }
   ],
   "source": [
    "c_x, c_y, c_z, y, Kn = symbols('c_x c_y c_z y Kn')\n",
    "b_1 = Function('b_1') #top boundary\n",
    "b_2 = Function('b_2') #top boundary\n",
    "v_1 = Function('v_1') #bottom boundary\n",
    "v_2 = Function('v_2') #bottom boundary\n",
    "\n",
    "ec = exp(-(c_x**2+c_y**2+c_z**2)) #comes up a bit!\n",
    "display(ec)"
   ]
  },
  {
   "cell_type": "code",
   "execution_count": 3,
   "id": "historical-particular",
   "metadata": {},
   "outputs": [
    {
     "data": {
      "text/latex": [
       "$\\displaystyle c_{x} c_{y} \\operatorname{v_{2}}{\\left(y \\right)} + c_{x} \\operatorname{v_{1}}{\\left(y \\right)}$"
      ],
      "text/plain": [
       "c_x*c_y*v_2(y) + c_x*v_1(y)"
      ]
     },
     "metadata": {},
     "output_type": "display_data"
    },
    {
     "data": {
      "text/latex": [
       "$\\displaystyle c_{x} c_{y} \\operatorname{b_{2}}{\\left(y \\right)} + c_{x} \\operatorname{b_{1}}{\\left(y \\right)}$"
      ],
      "text/plain": [
       "c_x*c_y*b_2(y) + c_x*b_1(y)"
      ]
     },
     "metadata": {},
     "output_type": "display_data"
    },
    {
     "data": {
      "text/latex": [
       "$\\displaystyle c_{x} c_{y} \\operatorname{v_{2}}{\\left(y \\right)} - c_{x} \\operatorname{v_{1}}{\\left(y \\right)}$"
      ],
      "text/plain": [
       "c_x*c_y*v_2(y) - c_x*v_1(y)"
      ]
     },
     "metadata": {},
     "output_type": "display_data"
    },
    {
     "data": {
      "text/latex": [
       "$\\displaystyle c_{x} c_{y} \\operatorname{b_{2}}{\\left(y \\right)} - c_{x} \\operatorname{b_{1}}{\\left(y \\right)}$"
      ],
      "text/plain": [
       "c_x*c_y*b_2(y) - c_x*b_1(y)"
      ]
     },
     "metadata": {},
     "output_type": "display_data"
    }
   ],
   "source": [
    "h1 = c_x*v_1(y)+c_x*c_y*v_2(y) #lower boundary, c_y > 0\n",
    "h2 = c_x*b_1(y)+c_x*c_y*b_2(y)  #top boundary, c_y < 0\n",
    "\n",
    "\n",
    "#can probabaly be automated\n",
    "h1n = -c_x*v_1(y)+c_x*c_y*v_2(y) #lower boundary\n",
    "h2n = -c_x*b_1(y)+c_x*c_y*b_2(y) #top boundary\n",
    "\n",
    "\n",
    "display(h1, h2, h1n, h2n)"
   ]
  },
  {
   "cell_type": "code",
   "execution_count": 93,
   "id": "exterior-calculation",
   "metadata": {},
   "outputs": [
    {
     "data": {
      "text/latex": [
       "$\\displaystyle c_{x} \\frac{d}{d y} \\operatorname{v_{1}}{\\left(y \\right)}$"
      ],
      "text/plain": [
       "c_x*Derivative(v_1(y), y)"
      ]
     },
     "metadata": {},
     "output_type": "display_data"
    }
   ],
   "source": [
    "display(h1.diff(y))"
   ]
  },
  {
   "cell_type": "code",
   "execution_count": 4,
   "id": "parental-access",
   "metadata": {},
   "outputs": [
    {
     "data": {
      "text/latex": [
       "$\\displaystyle \\frac{\\pi^{0.5} \\operatorname{b_{1}}{\\left(y \\right)} - \\operatorname{b_{2}}{\\left(y \\right)} + \\pi^{0.5} \\operatorname{v_{1}}{\\left(y \\right)} + \\operatorname{v_{2}}{\\left(y \\right)}}{4 \\pi^{0.5}}$"
      ],
      "text/plain": [
       "pi**(-0.5)*(pi**0.5*b_1(y) - b_2(y) + pi**0.5*v_1(y) + v_2(y))/4"
      ]
     },
     "metadata": {},
     "output_type": "display_data"
    }
   ],
   "source": [
    "#first computation of the velocity to be used in the inner product\n",
    "u_x = (pi**(-3/2)*integrate(c_x*h1*exp(-(c_x**2+c_y**2+c_z**2)), (c_x, -oo, oo), (c_y, 0, oo), (c_z, -oo, oo)) +\n",
    "       pi**(-3/2)*integrate(c_x*h2*exp(-(c_x**2+c_y**2+c_z**2)), (c_x, -oo, oo), (c_y, -oo, 0), (c_z, -oo, oo)))\n",
    "\n",
    "display(u_x.simplify())"
   ]
  },
  {
   "cell_type": "code",
   "execution_count": 5,
   "id": "framed-examination",
   "metadata": {},
   "outputs": [
    {
     "data": {
      "text/latex": [
       "$\\displaystyle - c_{x} c_{y} \\operatorname{v_{2}}{\\left(y \\right)} - \\frac{c_{x} \\left(\\pi^{0.5} \\operatorname{b_{1}}{\\left(y \\right)} - \\operatorname{b_{2}}{\\left(y \\right)} + \\pi^{0.5} \\operatorname{v_{1}}{\\left(y \\right)} + \\operatorname{v_{2}}{\\left(y \\right)}\\right)}{2 \\pi^{0.5}} + c_{x} \\operatorname{v_{1}}{\\left(y \\right)}$"
      ],
      "text/plain": [
       "-c_x*c_y*v_2(y) - pi**(-0.5)*c_x*(pi**0.5*b_1(y) - b_2(y) + pi**0.5*v_1(y) + v_2(y))/2 + c_x*v_1(y)"
      ]
     },
     "metadata": {},
     "output_type": "display_data"
    },
    {
     "data": {
      "text/latex": [
       "$\\displaystyle - c_{x} c_{y} \\operatorname{b_{2}}{\\left(y \\right)} - \\frac{c_{x} \\left(\\pi^{0.5} \\operatorname{b_{1}}{\\left(y \\right)} - \\operatorname{b_{2}}{\\left(y \\right)} + \\pi^{0.5} \\operatorname{v_{1}}{\\left(y \\right)} + \\operatorname{v_{2}}{\\left(y \\right)}\\right)}{2 \\pi^{0.5}} + c_{x} \\operatorname{b_{1}}{\\left(y \\right)}$"
      ],
      "text/plain": [
       "-c_x*c_y*b_2(y) - pi**(-0.5)*c_x*(pi**0.5*b_1(y) - b_2(y) + pi**0.5*v_1(y) + v_2(y))/2 + c_x*b_1(y)"
      ]
     },
     "metadata": {},
     "output_type": "display_data"
    }
   ],
   "source": [
    "L_1 = -2 *c_x*u_x.simplify() - h1n \n",
    "L_2 = -2 *c_x*u_x.simplify() - h2n\n",
    "\n",
    "display(L_1)\n",
    "display(L_2)"
   ]
  },
  {
   "cell_type": "code",
   "execution_count": 6,
   "id": "weighted-malpractice",
   "metadata": {},
   "outputs": [
    {
     "data": {
      "text/latex": [
       "$\\displaystyle \\left(c_{x} c_{y} \\operatorname{b_{2}}{\\left(y \\right)} + c_{x} \\operatorname{b_{1}}{\\left(y \\right)}\\right) \\left(- Kn c_{y} \\left(c_{x} c_{y} \\frac{d}{d y} \\operatorname{v_{2}}{\\left(y \\right)} - c_{x} \\frac{d}{d y} \\operatorname{v_{1}}{\\left(y \\right)}\\right) + c_{x} c_{y} \\operatorname{v_{2}}{\\left(y \\right)} + \\frac{c_{x} \\left(\\pi^{0.5} \\operatorname{b_{1}}{\\left(y \\right)} - \\operatorname{b_{2}}{\\left(y \\right)} + \\pi^{0.5} \\operatorname{v_{1}}{\\left(y \\right)} + \\operatorname{v_{2}}{\\left(y \\right)}\\right)}{2 \\pi^{0.5}} - c_{x} \\operatorname{v_{1}}{\\left(y \\right)}\\right) e^{- c_{x}^{2} - c_{y}^{2} - c_{z}^{2}}$"
      ],
      "text/plain": [
       "(c_x*c_y*b_2(y) + c_x*b_1(y))*(-Kn*c_y*(c_x*c_y*Derivative(v_2(y), y) - c_x*Derivative(v_1(y), y)) + c_x*c_y*v_2(y) + pi**(-0.5)*c_x*(pi**0.5*b_1(y) - b_2(y) + pi**0.5*v_1(y) + v_2(y))/2 - c_x*v_1(y))*exp(-c_x**2 - c_y**2 - c_z**2)"
      ]
     },
     "metadata": {},
     "output_type": "display_data"
    },
    {
     "data": {
      "text/latex": [
       "$\\displaystyle \\left(c_{x} c_{y} \\operatorname{v_{2}}{\\left(y \\right)} + c_{x} \\operatorname{v_{1}}{\\left(y \\right)}\\right) \\left(- Kn c_{y} \\left(c_{x} c_{y} \\frac{d}{d y} \\operatorname{b_{2}}{\\left(y \\right)} - c_{x} \\frac{d}{d y} \\operatorname{b_{1}}{\\left(y \\right)}\\right) + c_{x} c_{y} \\operatorname{b_{2}}{\\left(y \\right)} + \\frac{c_{x} \\left(\\pi^{0.5} \\operatorname{b_{1}}{\\left(y \\right)} - \\operatorname{b_{2}}{\\left(y \\right)} + \\pi^{0.5} \\operatorname{v_{1}}{\\left(y \\right)} + \\operatorname{v_{2}}{\\left(y \\right)}\\right)}{2 \\pi^{0.5}} - c_{x} \\operatorname{b_{1}}{\\left(y \\right)}\\right) e^{- c_{x}^{2} - c_{y}^{2} - c_{z}^{2}}$"
      ],
      "text/plain": [
       "(c_x*c_y*v_2(y) + c_x*v_1(y))*(-Kn*c_y*(c_x*c_y*Derivative(b_2(y), y) - c_x*Derivative(b_1(y), y)) + c_x*c_y*b_2(y) + pi**(-0.5)*c_x*(pi**0.5*b_1(y) - b_2(y) + pi**0.5*v_1(y) + v_2(y))/2 - c_x*b_1(y))*exp(-c_x**2 - c_y**2 - c_z**2)"
      ]
     },
     "metadata": {},
     "output_type": "display_data"
    }
   ],
   "source": [
    "#inner product for c_y < 0\n",
    "ip1 = h2*(-Kn*c_y*diff(h1n, y)-L_1)*ec\n",
    "\n",
    "#inner product for c_y > 0\n",
    "ip2 = h1*(-Kn*c_y*diff(h2n, y)-L_2)*ec\n",
    "\n",
    "display(ip1)\n",
    "display(ip2)"
   ]
  },
  {
   "cell_type": "code",
   "execution_count": 7,
   "id": "aging-mystery",
   "metadata": {},
   "outputs": [
    {
     "data": {
      "text/latex": [
       "$\\displaystyle - \\frac{\\pi Kn \\operatorname{b_{1}}{\\left(y \\right)} \\frac{d}{d y} \\operatorname{v_{1}}{\\left(y \\right)}}{4} - \\frac{\\pi^{\\frac{3}{2}} Kn \\operatorname{b_{1}}{\\left(y \\right)} \\frac{d}{d y} \\operatorname{v_{2}}{\\left(y \\right)}}{8} + \\frac{\\pi^{\\frac{3}{2}} Kn \\operatorname{b_{2}}{\\left(y \\right)} \\frac{d}{d y} \\operatorname{v_{1}}{\\left(y \\right)}}{8} + \\frac{\\pi Kn \\operatorname{b_{2}}{\\left(y \\right)} \\frac{d}{d y} \\operatorname{v_{2}}{\\left(y \\right)}}{4} + \\frac{\\pi Kn \\operatorname{v_{1}}{\\left(y \\right)} \\frac{d}{d y} \\operatorname{b_{1}}{\\left(y \\right)}}{4} - \\frac{\\pi^{\\frac{3}{2}} Kn \\operatorname{v_{1}}{\\left(y \\right)} \\frac{d}{d y} \\operatorname{b_{2}}{\\left(y \\right)}}{8} + \\frac{\\pi^{\\frac{3}{2}} Kn \\operatorname{v_{2}}{\\left(y \\right)} \\frac{d}{d y} \\operatorname{b_{1}}{\\left(y \\right)}}{8} - \\frac{\\pi Kn \\operatorname{v_{2}}{\\left(y \\right)} \\frac{d}{d y} \\operatorname{b_{2}}{\\left(y \\right)}}{4} + \\frac{\\pi^{\\frac{3}{2}} \\operatorname{b_{1}}^{2}{\\left(y \\right)}}{8} - \\frac{\\pi \\operatorname{b_{1}}{\\left(y \\right)} \\operatorname{b_{2}}{\\left(y \\right)}}{4} - \\frac{\\pi^{\\frac{3}{2}} \\operatorname{b_{1}}{\\left(y \\right)} \\operatorname{v_{1}}{\\left(y \\right)}}{4} - \\frac{\\pi \\operatorname{b_{1}}{\\left(y \\right)} \\operatorname{v_{2}}{\\left(y \\right)}}{4} + \\frac{\\sqrt{\\pi} \\operatorname{b_{2}}^{2}{\\left(y \\right)}}{8} + \\frac{\\pi \\operatorname{b_{2}}{\\left(y \\right)} \\operatorname{v_{1}}{\\left(y \\right)}}{4} - \\frac{\\sqrt{\\pi} \\operatorname{b_{2}}{\\left(y \\right)} \\operatorname{v_{2}}{\\left(y \\right)}}{4} + \\frac{\\pi^{\\frac{3}{2}} \\operatorname{b_{2}}{\\left(y \\right)} \\operatorname{v_{2}}{\\left(y \\right)}}{4} + \\frac{\\pi^{\\frac{3}{2}} \\operatorname{v_{1}}^{2}{\\left(y \\right)}}{8} + \\frac{\\pi \\operatorname{v_{1}}{\\left(y \\right)} \\operatorname{v_{2}}{\\left(y \\right)}}{4} + \\frac{\\sqrt{\\pi} \\operatorname{v_{2}}^{2}{\\left(y \\right)}}{8}$"
      ],
      "text/plain": [
       "-pi*Kn*b_1(y)*Derivative(v_1(y), y)/4 - pi**(3/2)*Kn*b_1(y)*Derivative(v_2(y), y)/8 + pi**(3/2)*Kn*b_2(y)*Derivative(v_1(y), y)/8 + pi*Kn*b_2(y)*Derivative(v_2(y), y)/4 + pi*Kn*v_1(y)*Derivative(b_1(y), y)/4 - pi**(3/2)*Kn*v_1(y)*Derivative(b_2(y), y)/8 + pi**(3/2)*Kn*v_2(y)*Derivative(b_1(y), y)/8 - pi*Kn*v_2(y)*Derivative(b_2(y), y)/4 + pi**(3/2)*b_1(y)**2/8 - pi*b_1(y)*b_2(y)/4 - pi**(3/2)*b_1(y)*v_1(y)/4 - pi*b_1(y)*v_2(y)/4 + sqrt(pi)*b_2(y)**2/8 + pi*b_2(y)*v_1(y)/4 - sqrt(pi)*b_2(y)*v_2(y)/4 + pi**(3/2)*b_2(y)*v_2(y)/4 + pi**(3/2)*v_1(y)**2/8 + pi*v_1(y)*v_2(y)/4 + sqrt(pi)*v_2(y)**2/8"
      ]
     },
     "metadata": {},
     "output_type": "display_data"
    }
   ],
   "source": [
    "M = integrate(ip1, (c_x, -oo, oo), (c_y, -oo, 0), (c_z, -oo, oo)) + integrate(ip2, (c_x, -oo, oo), (c_y, 0, oo), (c_z, -oo, oo))\n",
    "display(M.simplify())"
   ]
  },
  {
   "cell_type": "code",
   "execution_count": 8,
   "id": "natural-scheduling",
   "metadata": {},
   "outputs": [
    {
     "data": {
      "text/latex": [
       "$\\displaystyle \\frac{\\pi Kn \\frac{d}{d y} \\operatorname{b_{1}}{\\left(y \\right)}}{2} - \\frac{\\pi^{\\frac{3}{2}} Kn \\frac{d}{d y} \\operatorname{b_{2}}{\\left(y \\right)}}{4} - \\frac{\\pi^{\\frac{3}{2}} \\operatorname{b_{1}}{\\left(y \\right)}}{4} + \\frac{\\pi \\operatorname{b_{2}}{\\left(y \\right)}}{4} + \\frac{\\pi^{\\frac{3}{2}} \\operatorname{v_{1}}{\\left(y \\right)}}{4} + \\frac{\\pi \\operatorname{v_{2}}{\\left(y \\right)}}{4} = 0$"
      ],
      "text/plain": [
       "Eq(pi*Kn*Derivative(b_1(y), y)/2 - pi**(3/2)*Kn*Derivative(b_2(y), y)/4 - pi**(3/2)*b_1(y)/4 + pi*b_2(y)/4 + pi**(3/2)*v_1(y)/4 + pi*v_2(y)/4, 0)"
      ]
     },
     "metadata": {},
     "output_type": "display_data"
    },
    {
     "data": {
      "text/latex": [
       "$\\displaystyle \\frac{\\pi^{\\frac{3}{2}} Kn \\frac{d}{d y} \\operatorname{b_{1}}{\\left(y \\right)}}{4} - \\frac{\\pi Kn \\frac{d}{d y} \\operatorname{b_{2}}{\\left(y \\right)}}{2} - \\frac{\\pi \\operatorname{b_{1}}{\\left(y \\right)}}{4} - \\frac{\\sqrt{\\pi} \\operatorname{b_{2}}{\\left(y \\right)}}{4} + \\frac{\\pi^{\\frac{3}{2}} \\operatorname{b_{2}}{\\left(y \\right)}}{4} + \\frac{\\pi \\operatorname{v_{1}}{\\left(y \\right)}}{4} + \\frac{\\sqrt{\\pi} \\operatorname{v_{2}}{\\left(y \\right)}}{4} = 0$"
      ],
      "text/plain": [
       "Eq(pi**(3/2)*Kn*Derivative(b_1(y), y)/4 - pi*Kn*Derivative(b_2(y), y)/2 - pi*b_1(y)/4 - sqrt(pi)*b_2(y)/4 + pi**(3/2)*b_2(y)/4 + pi*v_1(y)/4 + sqrt(pi)*v_2(y)/4, 0)"
      ]
     },
     "metadata": {},
     "output_type": "display_data"
    }
   ],
   "source": [
    "ee = euler_equations(M, (v_1(y), v_2(y), b_1(y), b_2(y)), (y))\n",
    "#ee = euler_equations(M, (v_1(y), b_1(y)), (y))\n",
    "display(ee[0].simplify())\n",
    "display(ee[1].simplify())\n",
    "\n",
    "\n",
    "#display(ee[2].simplify())\n",
    "#display(ee[3].simplify())\n",
    "\n",
    "\n",
    "#display(ee)\n",
    "#print(\"\\n\")\n",
    "\n",
    "#display(ee[0].lhs.args[2])\n"
   ]
  },
  {
   "cell_type": "code",
   "execution_count": 9,
   "id": "following-bottom",
   "metadata": {},
   "outputs": [
    {
     "data": {
      "text/latex": [
       "$\\displaystyle - \\frac{\\pi^{\\frac{3}{2}} \\operatorname{b_{1}}{\\left(y \\right)}}{4} + \\frac{\\pi \\operatorname{b_{2}}{\\left(y \\right)}}{4} + \\frac{\\pi^{\\frac{3}{2}} \\operatorname{v_{1}}{\\left(y \\right)}}{4} + \\frac{\\pi \\operatorname{v_{2}}{\\left(y \\right)}}{4} + \\frac{\\pi \\left(- \\operatorname{b_{1}}{\\left(y \\right)} + \\operatorname{b_{1right}}{\\left(y \\right)}\\right)}{2 h} - \\frac{\\pi^{\\frac{3}{2}} \\left(- \\operatorname{b_{2}}{\\left(y \\right)} + \\operatorname{b_{2right}}{\\left(y \\right)}\\right)}{4 h} = 0$"
      ],
      "text/plain": [
       "Eq(-pi**(3/2)*b_1(y)/4 + pi*b_2(y)/4 + pi**(3/2)*v_1(y)/4 + pi*v_2(y)/4 + pi*(-b_1(y) + b_1right(y))/(2*h) - pi**(3/2)*(-b_2(y) + b_2right(y))/(4*h), 0)"
      ]
     },
     "metadata": {},
     "output_type": "display_data"
    },
    {
     "data": {
      "text/plain": [
       "{b_1right(y): -8*pi*Kn*b_1(y)/(-8*pi*Kn + pi**2*Kn + 16*Kn) + pi**2*Kn*b_1(y)/(-8*pi*Kn + pi**2*Kn + 16*Kn) + 16*Kn*b_1(y)/(-8*pi*Kn + pi**2*Kn + 16*Kn) - pi**(3/2)*h*b_1(y)/(-8*pi*Kn + pi**2*Kn + 16*Kn) + 4*sqrt(pi)*h*b_1(y)/(-8*pi*Kn + pi**2*Kn + 16*Kn) - 12*h*b_2(y)/(-8*pi*Kn + pi**2*Kn + 16*Kn) - pi**2*h*b_2(y)/(-8*pi*Kn + pi**2*Kn + 16*Kn) + 7*pi*h*b_2(y)/(-8*pi*Kn + pi**2*Kn + 16*Kn) - 4*sqrt(pi)*h*v_1(y)/(-8*pi*Kn + pi**2*Kn + 16*Kn) + pi**(3/2)*h*v_1(y)/(-8*pi*Kn + pi**2*Kn + 16*Kn) - 4*h*v_2(y)/(-8*pi*Kn + pi**2*Kn + 16*Kn) + pi*h*v_2(y)/(-8*pi*Kn + pi**2*Kn + 16*Kn),\n",
       " b_2right(y): -4*pi*Kn*b_2(y)/(-4*pi*Kn + pi**2*Kn) + pi**2*Kn*b_2(y)/(-4*pi*Kn + pi**2*Kn) - pi**2*h*b_1(y)/(-4*pi*Kn + pi**2*Kn) + 2*pi*h*b_1(y)/(-4*pi*Kn + pi**2*Kn) - pi**(3/2)*h*b_2(y)/(-4*pi*Kn + pi**2*Kn) + 2*sqrt(pi)*h*b_2(y)/(-4*pi*Kn + pi**2*Kn) - 2*pi*h*v_1(y)/(-4*pi*Kn + pi**2*Kn) + pi**2*h*v_1(y)/(-4*pi*Kn + pi**2*Kn) - 2*sqrt(pi)*h*v_2(y)/(-4*pi*Kn + pi**2*Kn) + pi**(3/2)*h*v_2(y)/(-4*pi*Kn + pi**2*Kn),\n",
       " v_1left(y): -8*pi*Kn*v_1(y)/(-8*pi*Kn + pi**2*Kn + 16*Kn) + pi**2*Kn*v_1(y)/(-8*pi*Kn + pi**2*Kn + 16*Kn) + 16*Kn*v_1(y)/(-8*pi*Kn + pi**2*Kn + 16*Kn) - 4*sqrt(pi)*h*b_1(y)/(-8*pi*Kn + pi**2*Kn + 16*Kn) + pi**(3/2)*h*b_1(y)/(-8*pi*Kn + pi**2*Kn + 16*Kn) - pi*h*b_2(y)/(-8*pi*Kn + pi**2*Kn + 16*Kn) + 4*h*b_2(y)/(-8*pi*Kn + pi**2*Kn + 16*Kn) - pi**(3/2)*h*v_1(y)/(-8*pi*Kn + pi**2*Kn + 16*Kn) + 4*sqrt(pi)*h*v_1(y)/(-8*pi*Kn + pi**2*Kn + 16*Kn) - 7*pi*h*v_2(y)/(-8*pi*Kn + pi**2*Kn + 16*Kn) + pi**2*h*v_2(y)/(-8*pi*Kn + pi**2*Kn + 16*Kn) + 12*h*v_2(y)/(-8*pi*Kn + pi**2*Kn + 16*Kn),\n",
       " v_2left(y): -4*pi*Kn*v_2(y)/(-4*pi*Kn + pi**2*Kn) + pi**2*Kn*v_2(y)/(-4*pi*Kn + pi**2*Kn) - pi**2*h*b_1(y)/(-4*pi*Kn + pi**2*Kn) + 2*pi*h*b_1(y)/(-4*pi*Kn + pi**2*Kn) - 2*sqrt(pi)*h*b_2(y)/(-4*pi*Kn + pi**2*Kn) + pi**(3/2)*h*b_2(y)/(-4*pi*Kn + pi**2*Kn) - 2*pi*h*v_1(y)/(-4*pi*Kn + pi**2*Kn) + pi**2*h*v_1(y)/(-4*pi*Kn + pi**2*Kn) - pi**(3/2)*h*v_2(y)/(-4*pi*Kn + pi**2*Kn) + 2*sqrt(pi)*h*v_2(y)/(-4*pi*Kn + pi**2*Kn)}"
      ]
     },
     "metadata": {},
     "output_type": "display_data"
    }
   ],
   "source": [
    "#need to make sure the step size works as intended.\n",
    "\n",
    "b_1right = Function('b_1right')\n",
    "b_2right = Function('b_2right')\n",
    "v_1left = Function('v_1left')\n",
    "v_2left = Function('v_2left')\n",
    "h = symbols('h')\n",
    "fin = ee.copy()\n",
    "\n",
    "terms = (v_1(y), v_2(y), b_1(y), b_2(y))\n",
    "deriv_terms = (v_1left(y), v_2left(y), b_1right(y), b_2right(y))\n",
    "\n",
    "fin[0] = fin[0].simplify().subs([(Derivative(b_1(y)), (b_1right(y)-b_1(y))/h), (Derivative(b_2(y)), (b_2right(y)-b_2(y))/h)])\n",
    "fin[1] = fin[1].simplify().subs([(Derivative(b_1(y)), (b_1right(y)-b_1(y))/h), (Derivative(b_2(y)), (b_2right(y)-b_2(y))/h)])\n",
    "fin[2] = fin[2].simplify().subs([(Derivative(v_1(y)), (v_1(y)-v_1left(y))/h), (Derivative(v_2(y)), (v_2(y)-v_2left(y))/h)])\n",
    "fin[3] = fin[3].simplify().subs([(Derivative(v_1(y)), (v_1(y)-v_1left(y))/h), (Derivative(v_2(y)), (v_2(y)-v_2left(y))/h)])\n",
    "\n",
    "display(fin[0].subs(Kn, 1))\n",
    "\n",
    "diff_eqs = solve(fin, [v_1left(y), v_2left(y), b_1right(y), b_2right(y)])\n",
    "\n",
    "display(diff_eqs)\n",
    "\n",
    "\n"
   ]
  },
  {
   "cell_type": "code",
   "execution_count": 10,
   "id": "celtic-declaration",
   "metadata": {},
   "outputs": [
    {
     "data": {
      "text/plain": [
       "array([[ 1.00690574,  0.        ,  0.        , ...,  0.        ,\n",
       "         0.        , -1.        ],\n",
       "       [-1.        ,  1.00690574,  0.        , ...,  0.        ,\n",
       "         0.        ,  0.        ],\n",
       "       [ 0.        , -1.        ,  1.00690574, ...,  0.        ,\n",
       "         0.        ,  0.        ],\n",
       "       ...,\n",
       "       [ 0.        ,  0.        ,  0.        , ...,  1.00250941,\n",
       "        -1.        ,  0.        ],\n",
       "       [ 0.        ,  0.        ,  0.        , ...,  0.        ,\n",
       "         1.00250941, -1.        ],\n",
       "       [ 0.        ,  0.        ,  0.        , ...,  0.        ,\n",
       "         0.        ,  1.00250941]])"
      ]
     },
     "metadata": {},
     "output_type": "display_data"
    },
    {
     "name": "stdout",
     "output_type": "stream",
     "text": [
      "[[ 1.          0.          0.         ...  0.          0.\n",
      "   0.        ]\n",
      " [-1.          1.00690574  0.         ...  0.          0.\n",
      "   0.        ]\n",
      " [ 0.         -1.          1.00690574 ...  0.          0.\n",
      "   0.        ]\n",
      " ...\n",
      " [ 0.          0.          0.         ...  1.00250941 -1.\n",
      "   0.        ]\n",
      " [ 0.          0.          0.         ...  0.          1.00250941\n",
      "  -1.        ]\n",
      " [ 0.          0.          0.         ...  0.          0.\n",
      "   1.        ]]\n",
      "[0.24351691 0.2453974  0.24727438 0.2491479  0.25101796 0.25288461\n",
      " 0.25474788 0.25660779 0.25846437 0.26031765 0.26216767 0.26401444\n",
      " 0.26585801 0.26769839 0.26953562 0.27136972 0.27320072 0.27502866\n",
      " 0.27685355 0.27867544 0.28049433 0.28231027 0.28412328 0.28593339\n",
      " 0.28774062 0.289545   0.29134657 0.29314534 0.29494134 0.2967346\n",
      " 0.29852515 0.30031302 0.30209822 0.30388079 0.30566075 0.30743813\n",
      " 0.30921296 0.31098525 0.31275504 0.31452236 0.31628722 0.31804966\n",
      " 0.31980969 0.32156735 0.32332266 0.32507565 0.32682633 0.32857474\n",
      " 0.3303209  0.33206483 0.33380657 0.33554613 0.33728353 0.33901881\n",
      " 0.34075199 0.34248309 0.34421214 0.34593916 0.34766417 0.3493872\n",
      " 0.35110828 0.35282742 0.35454465 0.35625999 0.35797347 0.35968512\n",
      " 0.36139494 0.36310298 0.36480925 0.36651377 0.36821657 0.36991767\n",
      " 0.3716171  0.37331487 0.37501101 0.37670555 0.3783985  0.38008989\n",
      " 0.38177974 0.38346807 0.38515492 0.38684029 0.38852421 0.3902067\n",
      " 0.3918878  0.39356751 0.39524586 0.39692287 0.39859857 0.40027298\n",
      " 0.40194611 0.403618   0.40528866 0.40695811 0.40862639 0.4102935\n",
      " 0.41195947 0.41362432 0.41528807 0.41695075 0.41861238 0.42027298\n",
      " 0.42193256 0.42359116 0.42524879 0.42690548 0.42856124 0.43021609\n",
      " 0.43187007 0.43352318 0.43517545 0.43682691 0.43847756 0.44012745\n",
      " 0.44177657 0.44342496 0.44507264 0.44671963 0.44836595 0.45001161\n",
      " 0.45165665 0.45330107 0.45494491 0.45658819 0.45823091 0.45987311\n",
      " 0.46151481 0.46315602 0.46479677 0.46643708 0.46807697 0.46971645\n",
      " 0.47135556 0.4729943  0.47463271 0.4762708  0.47790859 0.4795461\n",
      " 0.48118336 0.48282038 0.48445718 0.48609379 0.48773022 0.48936651\n",
      " 0.49100265 0.49263869 0.49427463 0.4959105  0.49754632 0.49918211\n",
      " 0.50081789 0.50245368 0.5040895  0.50572537 0.50736131 0.50899735\n",
      " 0.51063349 0.51226978 0.51390621 0.51554282 0.51717962 0.51881664\n",
      " 0.5204539  0.52209141 0.5237292  0.52536729 0.5270057  0.52864444\n",
      " 0.53028355 0.53192303 0.53356292 0.53520323 0.53684398 0.53848519\n",
      " 0.54012689 0.54176909 0.54341181 0.54505509 0.54669893 0.54834335\n",
      " 0.54998839 0.55163405 0.55328037 0.55492736 0.55657504 0.55822343\n",
      " 0.55987255 0.56152244 0.56317309 0.56482455 0.56647682 0.56812993\n",
      " 0.56978391 0.57143876 0.57309452 0.57475121 0.57640884 0.57806744\n",
      " 0.57972702 0.58138762 0.58304925 0.58471193 0.58637568 0.58804053\n",
      " 0.5897065  0.59137361 0.59304189 0.59471134 0.596382   0.59805389\n",
      " 0.59972702 0.60140143 0.60307713 0.60475414 0.60643249 0.6081122\n",
      " 0.6097933  0.61147579 0.61315971 0.61484508 0.61653193 0.61822026\n",
      " 0.61991011 0.6216015  0.62329445 0.62498899 0.62668513 0.6283829\n",
      " 0.63008233 0.63178343 0.63348623 0.63519075 0.63689702 0.63860506\n",
      " 0.64031488 0.64202653 0.64374001 0.64545535 0.64717258 0.64889172\n",
      " 0.6506128  0.65233583 0.65406084 0.65578786 0.65751691 0.65924801\n",
      " 0.66098119 0.66271647 0.66445387 0.66619343 0.66793517 0.6696791\n",
      " 0.67142526 0.67317367 0.67492435 0.67667734 0.67843265 0.68019031\n",
      " 0.68195034 0.68371278 0.68547764 0.68724496 0.68901475 0.69078704\n",
      " 0.69256187 0.69433925 0.69611921 0.69790178 0.69968698 0.70147485\n",
      " 0.7032654  0.70505866 0.70685466 0.70865343 0.710455   0.71225938\n",
      " 0.71406661 0.71587672 0.71768973 0.71950567 0.72132456 0.72314645\n",
      " 0.72497134 0.72679928 0.72863028 0.73046438 0.73230161 0.73414199\n",
      " 0.73598556 0.73783233 0.73968235 0.74153563 0.74339221 0.74525212\n",
      " 0.74711539 0.74898204 0.7508521  0.75272562 0.7546026  0.75648309]\n"
     ]
    },
    {
     "data": {
      "image/png": "[encoded data removed]",
      "text/plain": [
       "<Figure size 432x288 with 1 Axes>"
      ]
     },
     "metadata": {
      "needs_background": "light"
     },
     "output_type": "display_data"
    }
   ],
   "source": [
    "\n",
    "#still want to make this more generic so any arbitrary size trial function can be used!\n",
    "#should also modify this to work for unsteady case!\n",
    "\n",
    "steps = 300\n",
    "num_funcs = 4\n",
    "\n",
    "BCs = [0, steps, 3*steps-1, 4*steps-1] #rows that contain the Boundary conditions!\n",
    "#print(BCs)\n",
    "\n",
    "A = np.zeros((num_funcs*steps, num_funcs*steps))\n",
    "\n",
    "x = np.zeros(num_funcs*steps)\n",
    "x[-steps-1] = 2 #non zero boundary condition -> needs to be automated\n",
    "\n",
    "#giving these the same name messes up subs()!\n",
    "h_val = 1/(steps-1)\n",
    "\n",
    "kn_val = 1\n",
    "\n",
    "#probably want this and h to be more clearly added to the results\n",
    "#Kn = 1\n",
    "\n",
    "#none of these coefficients are variable dependent so this is pretty straightforward, will need to be modified for the sphere\n",
    "\n",
    "#better name pls\n",
    "coeffs = []\n",
    "\n",
    "#display(Poly(diff_eqs[i].subs([(Kn, kn_val), (h, h_val)]), terms))\n",
    "#display(diff_eqs[v_1left(y)])\n",
    "\n",
    "for i in deriv_terms:\n",
    "    #display(diff_eqs[i])\n",
    "    diff_eqs[i] = diff_eqs[i].subs([(Kn, kn_val), (h, h_val)])\n",
    "\n",
    "\n",
    "#won't need coeffs for deriv terms as that should always be 1 due to the solving method!\n",
    "for i in deriv_terms:\n",
    "    #display(diff_eqs[i])\n",
    "    #diff_eqs[i] = diff_eqs[i].subs([(Kn, kn_val), (h, h_val)])\n",
    "    coeffs.append(Poly(diff_eqs[i], terms).coeffs())\n",
    "    #display(coeffs[-1])\n",
    "\n",
    "\n",
    "#maybe split this into two loops? one for the vs and one for the bs?\n",
    "#display(coeffs[1][1].evalf())\n",
    "\n",
    "#could just apply boundary conditions at the end???? may be way easier! just replace entire row with zeros then sub in 1 at bc val\n",
    "\n",
    "\n",
    "#get this to work then see if it is quicker to create each 'block' of the matrix first then smash them together\n",
    "#each block should be mainly diagonal so could be much quicker!\n",
    "#dont think the matrix creation is much of a bottleneck though!\n",
    "\n",
    "for i in range(int(num_funcs/2)):#num funcs should always be an integer? would it be better if num funcs was how many funcs in each region?\n",
    "    #display(A) \n",
    "    \n",
    "    for j in range(num_funcs):\n",
    "    \n",
    "        for k in range(i*steps, (i+1)*steps):\n",
    "            #print(i, j, k)\n",
    "            #print(A)\n",
    "            #print(coeffs[i][j])\n",
    "            A[k][k+j*steps- i*steps] = coeffs[i][j]\n",
    "\n",
    "            \n",
    "#adds the deriv terms\n",
    "for i in range(int(num_funcs/2)):\n",
    "    for k in range(i*steps, (i+1)*steps):\n",
    "        A[k][k-1] = -1\n",
    "\n",
    "        \n",
    "#display(A) \n",
    "          \n",
    "for i in range(int(num_funcs/2), num_funcs):\n",
    "    for j in range(num_funcs):\n",
    "    \n",
    "        for k in range(i*steps, (i+1)*steps):\n",
    "            #print(i, j, k)\n",
    "            #print(A)\n",
    "            \n",
    "            A[k][k+j*steps- i*steps] = coeffs[i][j]\n",
    "            \n",
    "for i in range(int(num_funcs/2), num_funcs):\n",
    "    for k in range(i*steps, (i+1)*steps):\n",
    "        \n",
    "        #filthy but this works!\n",
    "        if not k == steps*num_funcs-1:\n",
    "            #print(k)\n",
    "            A[k][k+1] = -1\n",
    "        \n",
    "display(A)\n",
    "\n",
    "for i in BCs:\n",
    "    A[i] = np.zeros(num_funcs*steps)\n",
    "    A[i][i] = 1\n",
    "    \n",
    "print(A)\n",
    "\n",
    "\n",
    "vb = np.linalg.solve(A, x)\n",
    "\n",
    "v1 = vb[:steps]\n",
    "v2 = vb[steps:2*steps]\n",
    "b1 = vb[2*steps:3*steps]\n",
    "b2 = vb[3*steps:]\n",
    "\n",
    "#print(b1[-1])\n",
    "#print(v1[0])\n",
    "#print(x)\n",
    "\n",
    "#print(vb)\n",
    "\n",
    "\n",
    "\n",
    "\n",
    "u_2_fin = 1/(4*np.pi**(3/2))*(np.pi**(3/2)*b1 - np.pi*b2 + np.pi**(3/2)*v1 + np.pi*v2)\n",
    "\n",
    "print(u_2_fin)\n",
    "\n",
    "#print(u_2_fin)\n",
    "\n",
    "y_vals = np.linspace(0,1, steps)\n",
    "#print(y_vals)\n",
    "plt.plot(y_vals, u_2_fin)\n",
    "plt.show()\n",
    "        \n",
    "#might be easier to apply all the v_1s then all the v_2s etc\n",
    "\n"
   ]
  },
  {
   "cell_type": "code",
   "execution_count": 93,
   "id": "functional-diversity",
   "metadata": {},
   "outputs": [
    {
     "data": {
      "text/latex": [
       "$\\displaystyle -0.664948091581372$"
      ],
      "text/plain": [
       "-0.664948091581372"
      ]
     },
     "metadata": {},
     "output_type": "display_data"
    },
    {
     "data": {
      "text/latex": [
       "$\\displaystyle -0.37515678687017$"
      ],
      "text/plain": [
       "-0.375156786870170"
      ]
     },
     "metadata": {},
     "output_type": "display_data"
    },
    {
     "data": {
      "text/latex": [
       "$\\displaystyle 0.664948091581372$"
      ],
      "text/plain": [
       "0.664948091581372"
      ]
     },
     "metadata": {},
     "output_type": "display_data"
    },
    {
     "data": {
      "text/latex": [
       "$\\displaystyle 1.37515678687017$"
      ],
      "text/plain": [
       "1.37515678687017"
      ]
     },
     "metadata": {},
     "output_type": "display_data"
    }
   ],
   "source": [
    "for i in range(4):\n",
    "    display(coeffs[][i].evalf())"
   ]
  },
  {
   "cell_type": "code",
   "execution_count": 101,
   "id": "artistic-litigation",
   "metadata": {},
   "outputs": [
    {
     "name": "stdout",
     "output_type": "stream",
     "text": [
      "[[ 1.          0.          0.          0.          0.          0.\n",
      "   0.          0.          0.          0.          0.          0.        ]\n",
      " [-1.          2.03240837  0.          0.         -0.08247405  0.\n",
      "   0.         -1.03240837  0.          0.         -0.58247405  0.        ]\n",
      " [ 0.         -1.          2.03240837  0.          0.         -0.08247405\n",
      "   0.          0.         -1.03240837  0.          0.         -0.58247405]\n",
      " [ 0.          0.          0.          1.          0.          0.\n",
      "   0.          0.          0.          0.          0.          0.        ]\n",
      " [ 0.         -0.66494809  0.         -1.          1.37515679  0.\n",
      "   0.          0.66494809  0.          0.         -0.37515679  0.        ]\n",
      " [ 0.          0.         -0.66494809  0.         -1.          1.37515679\n",
      "   0.          0.          0.66494809  0.          0.         -0.37515679]\n",
      " [-1.03240837  0.          0.         -0.58247405  0.          0.\n",
      "   2.03240837 -1.          0.          0.08247405  0.          0.        ]\n",
      " [ 0.         -1.03240837  0.          0.         -0.58247405  0.\n",
      "   0.          2.03240837 -1.          0.          0.08247405  0.        ]\n",
      " [ 0.          0.          0.          0.          0.          0.\n",
      "   0.          0.          1.          0.          0.          0.        ]\n",
      " [-0.66494809  0.          0.         -0.37515679  0.          0.\n",
      "   0.66494809  0.          0.          1.37515679 -1.          0.        ]\n",
      " [ 0.         -0.66494809  0.          0.         -0.37515679  0.\n",
      "   0.          0.66494809  0.          0.          1.37515679 -1.        ]\n",
      " [ 0.          0.          0.          0.          0.          0.\n",
      "   0.          0.          0.          0.          0.          1.        ]]\n",
      "[ 2.15074395e-16  3.99475786e-01  1.18319145e+00  0.00000000e+00\n",
      " -4.50028939e-01 -7.22218902e-01  5.53695458e-01  1.07626386e+00\n",
      "  2.00000000e+00 -5.94992284e-01 -4.50028939e-01  0.00000000e+00]\n",
      "[0.22234598 0.36893491 0.69393077]\n"
     ]
    },
    {
     "data": {
      "image/png": "[encoded data removed]",
      "text/plain": [
       "<Figure size 432x288 with 1 Axes>"
      ]
     },
     "metadata": {
      "needs_background": "light"
     },
     "output_type": "display_data"
    }
   ],
   "source": [
    "A = np.zeros((num_funcs*steps, num_funcs*steps))\n",
    "\n",
    "\n",
    "#these rows contain the boundary conditions!\n",
    "\n",
    "\n",
    "\n",
    "\n",
    "x = np.zeros(num_funcs*steps)\n",
    "x[-steps-1] = 2 #this is the non-zero boundary condition!\n",
    "\n",
    "#print(A)\n",
    "#may need different ones!\n",
    "#z1 = kn*(np.pi-4)-np.sqrt(np.pi)*h\n",
    "#z2 = np.pi*(4-np.pi)*kn + np.sqrt(np.pi)*h*(np.pi-2)\n",
    "#z3 = kn*(np.pi-4)-np.sqrt(np.pi)*h #not certain this should be the same as z1 but gives correct matrix!\n",
    "\n",
    "#print(z3)\n",
    "#print(z2)\n",
    "#print(z1)\n",
    "\n",
    "#steps for v_1\n",
    "for i in range(steps):\n",
    "    \n",
    "    A[i][i] = 2.03240836551422 #v_1\n",
    "\n",
    "    A[i][i-1] = -1 #deriv\n",
    "    A[i][i+steps] = -0.082474045790686 #v_2  \n",
    "    A[i][i+2*steps] = -1.03240836551422 #b_1\n",
    "    A[i][i+3*steps] = -0.582474045790686 #b_2\n",
    "    \n",
    "#print('done')\n",
    "\n",
    "#steps for v_2\n",
    "for i in range(steps, 2*steps):\n",
    "    #print(i)\n",
    "    A[i][i] = 1.37515678687017 #v_2\n",
    "    \n",
    "    #A[i][i] = kn*np.pi*kn*(4-np.pi) + h*np.sqrt(np.pi)*(np.pi-2) #v_2\n",
    "\n",
    "    A[i][i-1] = -1 #deriv\n",
    "    A[i][i-steps] = -0.664948091581372 #v_1\n",
    "    A[i][i+steps] = 0.664948091581372 #b_1\n",
    "    A[i][i+2*steps] = -0.37515678687017 #b_2\n",
    "\n",
    "\n",
    "#print('done')\n",
    "    \n",
    "#steps for b_1\n",
    "for i in range(2*steps, 3*steps):\n",
    "    \n",
    "    A[i][i]=2.03240836551422 #b_1\n",
    "    #print(i)\n",
    "   \n",
    "    if not i == num_funcs*steps-1:\n",
    "        A[i][i+1] = -1 #deriv\n",
    "    \n",
    "    A[i][i+steps] = 0.082474045790686 #b_2\n",
    "    A[i][i-2*steps] = -1.03240836551422 #v_1\n",
    "    A[i][i-steps] = -0.582474045790686#v_2\n",
    "\n",
    "    \n",
    "#print('done')\n",
    "    \n",
    "#steps for b_2\n",
    "\n",
    "for i in range(3*steps, 4*steps):\n",
    "    A[i][i] = 1.37515678687017 #b_2\n",
    "    \n",
    "    #A[i][i] = np.pi*kn*(4-np.pi) + h*np.sqrt(np.pi)*(np.pi-2) #b_2\n",
    "    if not i == num_funcs*steps-1:\n",
    "        A[i][i+1] = -1 #deriv\n",
    "        \n",
    "        \n",
    "    A[i][i-steps] = 0.664948091581372 #b_1\n",
    "    A[i][i-3*steps] = -0.664948091581372 #v_1\n",
    "    #print(h*np.sqrt(np.pi)*np.pi*(2-np.pi)/z2)\n",
    "    #problem is in here!!!!\n",
    "    A[i][i-2*steps] = -0.37515678687017 #v_2\n",
    "    \n",
    "\n",
    "for i in BCs:\n",
    "    A[i] = np.zeros(num_funcs*steps)\n",
    "    A[i][i] = 1\n",
    "        \n",
    "\n",
    "print(A)\n",
    "\n",
    "\n",
    "    \n",
    "vb = np.linalg.solve(A, x)\n",
    "\n",
    "v1 = vb[:steps]\n",
    "v2 = vb[steps:2*steps]\n",
    "b1 = vb[2*steps:3*steps]\n",
    "b2 = vb[3*steps:]\n",
    "\n",
    "#print(b1[-1])\n",
    "#print(v1[0])\n",
    "#print(x)\n",
    "\n",
    "print(vb)\n",
    "\n",
    "u_2_fin = 1/(4*np.pi**(3/2))*(np.pi**(3/2)*b1 - np.pi*b2 + np.pi**(3/2)*v1 + np.pi*v2)\n",
    "\n",
    "print(u_2_fin)\n",
    "\n",
    "y_vals = np.linspace(0,1, steps)\n",
    "#print(y_vals)\n",
    "plt.plot(y_vals, u_2_fin)\n",
    "plt.show()\n",
    "\n"
   ]
  },
  {
   "cell_type": "code",
   "execution_count": 189,
   "id": "configured-faculty",
   "metadata": {},
   "outputs": [
    {
     "data": {
      "text/latex": [
       "$\\displaystyle \\frac{\\pi Kn \\left(- \\operatorname{b_{1}}{\\left(y \\right)} + \\operatorname{b_{1right}}{\\left(y \\right)}\\right)}{2 h} - \\frac{\\pi^{\\frac{3}{2}} Kn \\left(- \\operatorname{b_{2}}{\\left(y \\right)} + \\operatorname{b_{2right}}{\\left(y \\right)}\\right)}{4 h} - \\frac{\\pi^{\\frac{3}{2}} \\operatorname{b_{1}}{\\left(y \\right)}}{4} + \\frac{\\pi \\operatorname{b_{2}}{\\left(y \\right)}}{4} + \\frac{\\pi^{\\frac{3}{2}} \\operatorname{v_{1}}{\\left(y \\right)}}{4} + \\frac{\\pi \\operatorname{v_{2}}{\\left(y \\right)}}{4} = 0$"
      ],
      "text/plain": [
       "Eq(pi*Kn*(-b_1(y) + b_1right(y))/(2*h) - pi**(3/2)*Kn*(-b_2(y) + b_2right(y))/(4*h) - pi**(3/2)*b_1(y)/4 + pi*b_2(y)/4 + pi**(3/2)*v_1(y)/4 + pi*v_2(y)/4, 0)"
      ]
     },
     "metadata": {},
     "output_type": "display_data"
    },
    {
     "data": {
      "text/latex": [
       "$\\displaystyle \\frac{\\pi^{\\frac{3}{2}} Kn \\left(- \\operatorname{b_{1}}{\\left(y \\right)} + \\operatorname{b_{1right}}{\\left(y \\right)}\\right)}{4 h} - \\frac{\\pi Kn \\left(- \\operatorname{b_{2}}{\\left(y \\right)} + \\operatorname{b_{2right}}{\\left(y \\right)}\\right)}{2 h} - \\frac{\\pi \\operatorname{b_{1}}{\\left(y \\right)}}{4} - \\frac{\\sqrt{\\pi} \\operatorname{b_{2}}{\\left(y \\right)}}{4} + \\frac{\\pi^{\\frac{3}{2}} \\operatorname{b_{2}}{\\left(y \\right)}}{4} + \\frac{\\pi \\operatorname{v_{1}}{\\left(y \\right)}}{4} + \\frac{\\sqrt{\\pi} \\operatorname{v_{2}}{\\left(y \\right)}}{4} = 0$"
      ],
      "text/plain": [
       "Eq(pi**(3/2)*Kn*(-b_1(y) + b_1right(y))/(4*h) - pi*Kn*(-b_2(y) + b_2right(y))/(2*h) - pi*b_1(y)/4 - sqrt(pi)*b_2(y)/4 + pi**(3/2)*b_2(y)/4 + pi*v_1(y)/4 + sqrt(pi)*v_2(y)/4, 0)"
      ]
     },
     "metadata": {},
     "output_type": "display_data"
    },
    {
     "data": {
      "text/latex": [
       "$\\displaystyle \\frac{\\pi Kn \\left(\\operatorname{v_{1}}{\\left(y \\right)} - \\operatorname{v_{1left}}{\\left(y \\right)}\\right)}{2 h} + \\frac{\\pi^{\\frac{3}{2}} Kn \\left(\\operatorname{v_{2}}{\\left(y \\right)} - \\operatorname{v_{2left}}{\\left(y \\right)}\\right)}{4 h} - \\frac{\\pi^{\\frac{3}{2}} \\operatorname{b_{1}}{\\left(y \\right)}}{4} + \\frac{\\pi \\operatorname{b_{2}}{\\left(y \\right)}}{4} + \\frac{\\pi^{\\frac{3}{2}} \\operatorname{v_{1}}{\\left(y \\right)}}{4} + \\frac{\\pi \\operatorname{v_{2}}{\\left(y \\right)}}{4} = 0$"
      ],
      "text/plain": [
       "Eq(pi*Kn*(v_1(y) - v_1left(y))/(2*h) + pi**(3/2)*Kn*(v_2(y) - v_2left(y))/(4*h) - pi**(3/2)*b_1(y)/4 + pi*b_2(y)/4 + pi**(3/2)*v_1(y)/4 + pi*v_2(y)/4, 0)"
      ]
     },
     "metadata": {},
     "output_type": "display_data"
    },
    {
     "data": {
      "text/latex": [
       "$\\displaystyle \\frac{\\pi^{\\frac{3}{2}} Kn \\left(\\operatorname{v_{1}}{\\left(y \\right)} - \\operatorname{v_{1left}}{\\left(y \\right)}\\right)}{4 h} + \\frac{\\pi Kn \\left(\\operatorname{v_{2}}{\\left(y \\right)} - \\operatorname{v_{2left}}{\\left(y \\right)}\\right)}{2 h} - \\frac{\\pi \\operatorname{b_{1}}{\\left(y \\right)}}{4} + \\frac{\\sqrt{\\pi} \\operatorname{b_{2}}{\\left(y \\right)}}{4} + \\frac{\\pi \\operatorname{v_{1}}{\\left(y \\right)}}{4} - \\frac{\\sqrt{\\pi} \\operatorname{v_{2}}{\\left(y \\right)}}{4} + \\frac{\\pi^{\\frac{3}{2}} \\operatorname{v_{2}}{\\left(y \\right)}}{4} = 0$"
      ],
      "text/plain": [
       "Eq(pi**(3/2)*Kn*(v_1(y) - v_1left(y))/(4*h) + pi*Kn*(v_2(y) - v_2left(y))/(2*h) - pi*b_1(y)/4 + sqrt(pi)*b_2(y)/4 + pi*v_1(y)/4 - sqrt(pi)*v_2(y)/4 + pi**(3/2)*v_2(y)/4, 0)"
      ]
     },
     "metadata": {},
     "output_type": "display_data"
    },
    {
     "data": {
      "text/latex": [
       "$\\displaystyle \\operatorname{b_{1right}}{\\left(y \\right)}$"
      ],
      "text/plain": [
       "b_1right(y)"
      ]
     },
     "metadata": {},
     "output_type": "display_data"
    },
    {
     "data": {
      "text/latex": [
       "$\\displaystyle \\frac{- 8 \\pi Kn \\operatorname{b_{1}}{\\left(y \\right)} + \\pi^{2} Kn \\operatorname{b_{1}}{\\left(y \\right)} + 16 Kn \\operatorname{b_{1}}{\\left(y \\right)} - \\pi^{\\frac{3}{2}} h \\operatorname{b_{1}}{\\left(y \\right)} + 4 \\sqrt{\\pi} h \\operatorname{b_{1}}{\\left(y \\right)} - 12 h \\operatorname{b_{2}}{\\left(y \\right)} - \\pi^{2} h \\operatorname{b_{2}}{\\left(y \\right)} + 7 \\pi h \\operatorname{b_{2}}{\\left(y \\right)} - 4 \\sqrt{\\pi} h \\operatorname{v_{1}}{\\left(y \\right)} + \\pi^{\\frac{3}{2}} h \\operatorname{v_{1}}{\\left(y \\right)} - 4 h \\operatorname{v_{2}}{\\left(y \\right)} + \\pi h \\operatorname{v_{2}}{\\left(y \\right)}}{Kn \\left(- 8 \\pi + \\pi^{2} + 16\\right)}$"
      ],
      "text/plain": [
       "(-8*pi*Kn*b_1(y) + pi**2*Kn*b_1(y) + 16*Kn*b_1(y) - pi**(3/2)*h*b_1(y) + 4*sqrt(pi)*h*b_1(y) - 12*h*b_2(y) - pi**2*h*b_2(y) + 7*pi*h*b_2(y) - 4*sqrt(pi)*h*v_1(y) + pi**(3/2)*h*v_1(y) - 4*h*v_2(y) + pi*h*v_2(y))/(Kn*(-8*pi + pi**2 + 16))"
      ]
     },
     "metadata": {},
     "output_type": "display_data"
    },
    {
     "name": "stdout",
     "output_type": "stream",
     "text": [
      "\n",
      "\n"
     ]
    },
    {
     "data": {
      "text/latex": [
       "$\\displaystyle \\operatorname{b_{2right}}{\\left(y \\right)}$"
      ],
      "text/plain": [
       "b_2right(y)"
      ]
     },
     "metadata": {},
     "output_type": "display_data"
    },
    {
     "data": {
      "text/latex": [
       "$\\displaystyle \\frac{- \\pi^{2} Kn \\operatorname{b_{2}}{\\left(y \\right)} + 4 \\pi Kn \\operatorname{b_{2}}{\\left(y \\right)} - 2 \\pi h \\operatorname{b_{1}}{\\left(y \\right)} + \\pi^{2} h \\operatorname{b_{1}}{\\left(y \\right)} - 2 \\sqrt{\\pi} h \\operatorname{b_{2}}{\\left(y \\right)} + \\pi^{\\frac{3}{2}} h \\operatorname{b_{2}}{\\left(y \\right)} - \\pi^{2} h \\operatorname{v_{1}}{\\left(y \\right)} + 2 \\pi h \\operatorname{v_{1}}{\\left(y \\right)} - \\pi^{\\frac{3}{2}} h \\operatorname{v_{2}}{\\left(y \\right)} + 2 \\sqrt{\\pi} h \\operatorname{v_{2}}{\\left(y \\right)}}{\\pi Kn \\left(4 - \\pi\\right)}$"
      ],
      "text/plain": [
       "(-pi**2*Kn*b_2(y) + 4*pi*Kn*b_2(y) - 2*pi*h*b_1(y) + pi**2*h*b_1(y) - 2*sqrt(pi)*h*b_2(y) + pi**(3/2)*h*b_2(y) - pi**2*h*v_1(y) + 2*pi*h*v_1(y) - pi**(3/2)*h*v_2(y) + 2*sqrt(pi)*h*v_2(y))/(pi*Kn*(4 - pi))"
      ]
     },
     "metadata": {},
     "output_type": "display_data"
    },
    {
     "name": "stdout",
     "output_type": "stream",
     "text": [
      "\n",
      "\n"
     ]
    },
    {
     "data": {
      "text/latex": [
       "$\\displaystyle \\operatorname{v_{1left}}{\\left(y \\right)}$"
      ],
      "text/plain": [
       "v_1left(y)"
      ]
     },
     "metadata": {},
     "output_type": "display_data"
    },
    {
     "data": {
      "text/latex": [
       "$\\displaystyle \\frac{- 8 \\pi Kn \\operatorname{v_{1}}{\\left(y \\right)} + \\pi^{2} Kn \\operatorname{v_{1}}{\\left(y \\right)} + 16 Kn \\operatorname{v_{1}}{\\left(y \\right)} - 4 \\sqrt{\\pi} h \\operatorname{b_{1}}{\\left(y \\right)} + \\pi^{\\frac{3}{2}} h \\operatorname{b_{1}}{\\left(y \\right)} - \\pi h \\operatorname{b_{2}}{\\left(y \\right)} + 4 h \\operatorname{b_{2}}{\\left(y \\right)} - \\pi^{\\frac{3}{2}} h \\operatorname{v_{1}}{\\left(y \\right)} + 4 \\sqrt{\\pi} h \\operatorname{v_{1}}{\\left(y \\right)} - 7 \\pi h \\operatorname{v_{2}}{\\left(y \\right)} + \\pi^{2} h \\operatorname{v_{2}}{\\left(y \\right)} + 12 h \\operatorname{v_{2}}{\\left(y \\right)}}{Kn \\left(- 8 \\pi + \\pi^{2} + 16\\right)}$"
      ],
      "text/plain": [
       "(-8*pi*Kn*v_1(y) + pi**2*Kn*v_1(y) + 16*Kn*v_1(y) - 4*sqrt(pi)*h*b_1(y) + pi**(3/2)*h*b_1(y) - pi*h*b_2(y) + 4*h*b_2(y) - pi**(3/2)*h*v_1(y) + 4*sqrt(pi)*h*v_1(y) - 7*pi*h*v_2(y) + pi**2*h*v_2(y) + 12*h*v_2(y))/(Kn*(-8*pi + pi**2 + 16))"
      ]
     },
     "metadata": {},
     "output_type": "display_data"
    },
    {
     "name": "stdout",
     "output_type": "stream",
     "text": [
      "\n",
      "\n"
     ]
    },
    {
     "data": {
      "text/latex": [
       "$\\displaystyle \\operatorname{v_{2left}}{\\left(y \\right)}$"
      ],
      "text/plain": [
       "v_2left(y)"
      ]
     },
     "metadata": {},
     "output_type": "display_data"
    },
    {
     "data": {
      "text/latex": [
       "$\\displaystyle \\frac{- \\pi^{2} Kn \\operatorname{v_{2}}{\\left(y \\right)} + 4 \\pi Kn \\operatorname{v_{2}}{\\left(y \\right)} - 2 \\pi h \\operatorname{b_{1}}{\\left(y \\right)} + \\pi^{2} h \\operatorname{b_{1}}{\\left(y \\right)} - \\pi^{\\frac{3}{2}} h \\operatorname{b_{2}}{\\left(y \\right)} + 2 \\sqrt{\\pi} h \\operatorname{b_{2}}{\\left(y \\right)} - \\pi^{2} h \\operatorname{v_{1}}{\\left(y \\right)} + 2 \\pi h \\operatorname{v_{1}}{\\left(y \\right)} - 2 \\sqrt{\\pi} h \\operatorname{v_{2}}{\\left(y \\right)} + \\pi^{\\frac{3}{2}} h \\operatorname{v_{2}}{\\left(y \\right)}}{\\pi Kn \\left(4 - \\pi\\right)}$"
      ],
      "text/plain": [
       "(-pi**2*Kn*v_2(y) + 4*pi*Kn*v_2(y) - 2*pi*h*b_1(y) + pi**2*h*b_1(y) - pi**(3/2)*h*b_2(y) + 2*sqrt(pi)*h*b_2(y) - pi**2*h*v_1(y) + 2*pi*h*v_1(y) - 2*sqrt(pi)*h*v_2(y) + pi**(3/2)*h*v_2(y))/(pi*Kn*(4 - pi))"
      ]
     },
     "metadata": {},
     "output_type": "display_data"
    },
    {
     "name": "stdout",
     "output_type": "stream",
     "text": [
      "\n",
      "\n"
     ]
    }
   ],
   "source": [
    "b_1right = Function('b_1right')\n",
    "b_2right = Function('b_2right')\n",
    "v_1left = Function('v_1left')\n",
    "v_2left = Function('v_2left')\n",
    "\n",
    "h = symbols('h')\n",
    "\n",
    "fin = ee.copy()\n",
    "fin[0] = fin[0].simplify()\n",
    "fin[1] = fin[1].simplify()\n",
    "fin[2] = fin[2].simplify()\n",
    "fin[3] = fin[3].simplify()\n",
    "\n",
    "fin[0] = fin[0].subs([(Derivative(b_1(y)), (b_1right(y)-b_1(y))/h), (Derivative(b_2(y)), (b_2right(y)-b_2(y))/h)])\n",
    "fin[1] = fin[1].subs([(Derivative(b_1(y)), (b_1right(y)-b_1(y))/h), (Derivative(b_2(y)), (b_2right(y)-b_2(y))/h)])\n",
    "fin[2] = fin[2].subs([(Derivative(v_1(y)), (v_1(y)-v_1left(y))/h), (Derivative(v_2(y)), (v_2(y)-v_2left(y))/h)])\n",
    "fin[3] = fin[3].subs([(Derivative(v_1(y)), (v_1(y)-v_1left(y))/h), (Derivative(v_2(y)), (v_2(y)-v_2left(y))/h)])\n",
    "\n",
    "display(fin[0])\n",
    "display(fin[1])\n",
    "display(fin[2])\n",
    "display(fin[3])\n",
    "#diff_eqs = solve(ee, [Derivative(b_1(y)), Derivative(b_2(y)), Derivative(v_1(y)), Derivative(v_2(y))])\n",
    "diff_eqs = solve(fin, [b_1right(y), b_2right(y), v_1left(y), v_2left(y)])\n",
    "\n",
    "\n",
    "\n",
    "for i in diff_eqs:\n",
    "    display(i)\n",
    "    display(diff_eqs[i].simplify())\n",
    "    print('\\n')"
   ]
  },
  {
   "cell_type": "code",
   "execution_count": 12,
   "id": "apparent-confidence",
   "metadata": {},
   "outputs": [
    {
     "name": "stdout",
     "output_type": "stream",
     "text": [
      "[0, 300, 899, 1199]\n",
      "[[ 1.          0.          0.         ...  0.          0.\n",
      "   0.        ]\n",
      " [-0.99314162  1.          0.         ...  0.          0.\n",
      "   0.        ]\n",
      " [ 0.         -0.99314162  1.         ...  0.          0.\n",
      "   0.        ]\n",
      " ...\n",
      " [ 0.          0.          0.         ...  1.         -0.99749687\n",
      "   0.        ]\n",
      " [ 0.          0.          0.         ...  0.          1.\n",
      "  -0.99749687]\n",
      " [ 0.          0.          0.         ...  0.          0.\n",
      "   1.        ]]\n",
      "[ 0.          0.00670046  0.01337491 ... -0.00858667 -0.00430632\n",
      "  0.        ]\n",
      "[0.24351691 0.2453974  0.24727438 0.2491479  0.25101796 0.25288461\n",
      " 0.25474788 0.25660779 0.25846437 0.26031765 0.26216767 0.26401444\n",
      " 0.26585801 0.26769839 0.26953562 0.27136972 0.27320072 0.27502866\n",
      " 0.27685355 0.27867544 0.28049433 0.28231027 0.28412328 0.28593339\n",
      " 0.28774062 0.289545   0.29134657 0.29314534 0.29494134 0.2967346\n",
      " 0.29852515 0.30031302 0.30209822 0.30388079 0.30566075 0.30743813\n",
      " 0.30921296 0.31098525 0.31275504 0.31452236 0.31628722 0.31804966\n",
      " 0.31980969 0.32156735 0.32332266 0.32507565 0.32682633 0.32857474\n",
      " 0.3303209  0.33206483 0.33380657 0.33554613 0.33728353 0.33901881\n",
      " 0.34075199 0.34248309 0.34421214 0.34593916 0.34766417 0.3493872\n",
      " 0.35110828 0.35282742 0.35454465 0.35625999 0.35797347 0.35968512\n",
      " 0.36139494 0.36310298 0.36480925 0.36651377 0.36821657 0.36991767\n",
      " 0.3716171  0.37331487 0.37501101 0.37670555 0.3783985  0.38008989\n",
      " 0.38177974 0.38346807 0.38515492 0.38684029 0.38852421 0.3902067\n",
      " 0.3918878  0.39356751 0.39524586 0.39692287 0.39859857 0.40027298\n",
      " 0.40194611 0.403618   0.40528866 0.40695811 0.40862639 0.4102935\n",
      " 0.41195947 0.41362432 0.41528807 0.41695075 0.41861238 0.42027298\n",
      " 0.42193256 0.42359116 0.42524879 0.42690548 0.42856124 0.43021609\n",
      " 0.43187007 0.43352318 0.43517545 0.43682691 0.43847756 0.44012745\n",
      " 0.44177657 0.44342496 0.44507264 0.44671963 0.44836595 0.45001161\n",
      " 0.45165665 0.45330107 0.45494491 0.45658819 0.45823091 0.45987311\n",
      " 0.46151481 0.46315602 0.46479677 0.46643708 0.46807697 0.46971645\n",
      " 0.47135556 0.4729943  0.47463271 0.4762708  0.47790859 0.4795461\n",
      " 0.48118336 0.48282038 0.48445718 0.48609379 0.48773022 0.48936651\n",
      " 0.49100265 0.49263869 0.49427463 0.4959105  0.49754632 0.49918211\n",
      " 0.50081789 0.50245368 0.5040895  0.50572537 0.50736131 0.50899735\n",
      " 0.51063349 0.51226978 0.51390621 0.51554282 0.51717962 0.51881664\n",
      " 0.5204539  0.52209141 0.5237292  0.52536729 0.5270057  0.52864444\n",
      " 0.53028355 0.53192303 0.53356292 0.53520323 0.53684398 0.53848519\n",
      " 0.54012689 0.54176909 0.54341181 0.54505509 0.54669893 0.54834335\n",
      " 0.54998839 0.55163405 0.55328037 0.55492736 0.55657504 0.55822343\n",
      " 0.55987255 0.56152244 0.56317309 0.56482455 0.56647682 0.56812993\n",
      " 0.56978391 0.57143876 0.57309452 0.57475121 0.57640884 0.57806744\n",
      " 0.57972702 0.58138762 0.58304925 0.58471193 0.58637568 0.58804053\n",
      " 0.5897065  0.59137361 0.59304189 0.59471134 0.596382   0.59805389\n",
      " 0.59972702 0.60140143 0.60307713 0.60475414 0.60643249 0.6081122\n",
      " 0.6097933  0.61147579 0.61315971 0.61484508 0.61653193 0.61822026\n",
      " 0.61991011 0.6216015  0.62329445 0.62498899 0.62668513 0.6283829\n",
      " 0.63008233 0.63178343 0.63348623 0.63519075 0.63689702 0.63860506\n",
      " 0.64031488 0.64202653 0.64374001 0.64545535 0.64717258 0.64889172\n",
      " 0.6506128  0.65233583 0.65406084 0.65578786 0.65751691 0.65924801\n",
      " 0.66098119 0.66271647 0.66445387 0.66619343 0.66793517 0.6696791\n",
      " 0.67142526 0.67317367 0.67492435 0.67667734 0.67843265 0.68019031\n",
      " 0.68195034 0.68371278 0.68547764 0.68724496 0.68901475 0.69078704\n",
      " 0.69256187 0.69433925 0.69611921 0.69790178 0.69968698 0.70147485\n",
      " 0.7032654  0.70505866 0.70685466 0.70865343 0.710455   0.71225938\n",
      " 0.71406661 0.71587672 0.71768973 0.71950567 0.72132456 0.72314645\n",
      " 0.72497134 0.72679928 0.72863028 0.73046438 0.73230161 0.73414199\n",
      " 0.73598556 0.73783233 0.73968235 0.74153563 0.74339221 0.74525212\n",
      " 0.74711539 0.74898204 0.7508521  0.75272562 0.7546026  0.75648309]\n"
     ]
    },
    {
     "data": {
      "image/png": "[encoded data removed]",
      "text/plain": [
       "<Figure size 432x288 with 1 Axes>"
      ]
     },
     "metadata": {
      "needs_background": "light"
     },
     "output_type": "display_data"
    }
   ],
   "source": [
    "num_funcs = 4\n",
    "\n",
    "steps = 300 #number of steps for both v and b\n",
    "h = 1/(steps-1) #step size!\n",
    "\n",
    "BCs = [0, steps, 3*steps-1, 4*steps-1]\n",
    "print(BCs)\n",
    "\n",
    "kn = 1\n",
    "\n",
    "#A is form v_1, v_2, b_1, b_2\n",
    "A = np.zeros((num_funcs*steps, num_funcs*steps))\n",
    "\n",
    "\n",
    "#these rows contain the boundary conditions!\n",
    "\n",
    "\n",
    "\n",
    "x = np.zeros(num_funcs*steps)\n",
    "x[-steps-1] = 2 #this is the non-zero boundary condition!\n",
    "\n",
    "#print(A)\n",
    "#may need different ones!\n",
    "z1 = kn*(np.pi-4)-np.sqrt(np.pi)*h\n",
    "z2 = np.pi*(4-np.pi)*kn + np.sqrt(np.pi)*h*(np.pi-2)\n",
    "z3 = kn*(np.pi-4)-np.sqrt(np.pi)*h #not certain this should be the same as z1 but gives correct matrix!\n",
    "\n",
    "#print(z3)\n",
    "#print(z2)\n",
    "#print(z1)\n",
    "\n",
    "#steps for v_1\n",
    "for i in range(steps):\n",
    "    \n",
    "    A[i][i] = 1 #v_1\n",
    "    if i not in BCs:\n",
    "        A[i][i-1] = -kn*(np.pi-4)/z1 #deriv \n",
    "        A[i][i+steps] = h*(np.pi-3)/z1 #v_2  \n",
    "        A[i][i+2*steps] = h*np.sqrt(np.pi)/z1 #b_1\n",
    "        A[i][i+3*steps] = -h/z1 #b_2\n",
    "    \n",
    "#print('done')\n",
    "\n",
    "#steps for v_2\n",
    "for i in range(steps, 2*steps):\n",
    "    #print(i)\n",
    "    A[i][i] = 1 #v_2\n",
    "    if i not in BCs:\n",
    "        #A[i][i] = kn*np.pi*kn*(4-np.pi) + h*np.sqrt(np.pi)*(np.pi-2) #v_2\n",
    "\n",
    "        A[i][i-1] = -kn*np.pi*(4-np.pi)/z2 #deriv\n",
    "        A[i][i-steps] = h*np.pi*(2-np.pi)/z2 #v_1\n",
    "        A[i][i+steps] = h*np.pi*(np.pi-2)/z2 #b_1\n",
    "        A[i][i+2*steps] = h*np.sqrt(np.pi)*(2-np.pi)/z2 #b_2\n",
    "\n",
    "\n",
    "#print('done')\n",
    "    \n",
    "#steps for b_1\n",
    "for i in range(2*steps, 3*steps):\n",
    "    \n",
    "    A[i][i]=1 #b_1\n",
    "    #print(i)\n",
    "    if i not in BCs:\n",
    "\n",
    "        A[i][i+1] = -kn*(np.pi-4)/z3 #deriv\n",
    "        A[i][i+steps] = -h*(np.pi-3)/z3 #b_2\n",
    "        A[i][i-2*steps] = h*np.sqrt(np.pi)/z3 #v_1\n",
    "        A[i][i-steps] = h/z3 #v_2\n",
    "\n",
    "    \n",
    "#print('done')\n",
    "    \n",
    "#steps for b_2\n",
    "\n",
    "for i in range(3*steps, 4*steps):\n",
    "    A[i][i] = 1 #b_2\n",
    "    if i not in BCs:\n",
    "        #A[i][i] = np.pi*kn*(4-np.pi) + h*np.sqrt(np.pi)*(np.pi-2) #b_2\n",
    "        A[i][i+1] = -kn*np.pi*(4-np.pi)/z2 #deriv\n",
    "        A[i][i-steps] = h*np.pi*(np.pi-2)/z2 #b_1\n",
    "        A[i][i-3*steps] = h*np.pi*(2-np.pi)/z2 #v_1\n",
    "        #print(h*np.sqrt(np.pi)*np.pi*(2-np.pi)/z2)\n",
    "        #problem is in here!!!!\n",
    "        A[i][i-2*steps] = h*np.sqrt(np.pi)*(2-np.pi)/z2 #v_2\n",
    "    \n",
    "print(A)\n",
    "    \n",
    "vb = np.linalg.solve(A, x)\n",
    "\n",
    "v1 = vb[:steps]\n",
    "v2 = vb[steps:2*steps]\n",
    "b1 = vb[2*steps:3*steps]\n",
    "b2 = vb[3*steps:]\n",
    "\n",
    "#print(b1[-1])\n",
    "#print(v1[0])\n",
    "#print(x)\n",
    "\n",
    "print(vb)\n",
    "\n",
    "\n",
    "\n",
    "\n",
    "u_2_fin = 1/(4*np.pi**(3/2))*(np.pi**(3/2)*b1 - np.pi*b2 + np.pi**(3/2)*v1 + np.pi*v2)\n",
    "\n",
    "print(u_2_fin)\n",
    "\n",
    "y_vals = np.linspace(0,1, steps)\n",
    "#print(y_vals)\n",
    "plt.plot(y_vals, u_2_fin)\n",
    "plt.show()\n",
    "\n",
    "        "
   ]
  },
  {
   "cell_type": "code",
   "execution_count": 111,
   "id": "pleasant-subcommittee",
   "metadata": {},
   "outputs": [
    {
     "data": {
      "text/latex": [
       "$\\displaystyle \\frac{\\pi Kn \\left(- \\operatorname{b_{1}}{\\left(y \\right)} + \\operatorname{b_{1 right}}{\\left(y \\right)}\\right)}{2 m} - \\frac{\\pi^{\\frac{3}{2}} \\operatorname{b_{1}}{\\left(y \\right)}}{4} + \\frac{\\pi^{\\frac{3}{2}} \\operatorname{v_{1}}{\\left(y \\right)}}{4} = 0$"
      ],
      "text/plain": [
       "Eq(pi*Kn*(-b_1(y) + b_1_right(y))/(2*m) - pi**(3/2)*b_1(y)/4 + pi**(3/2)*v_1(y)/4, 0)"
      ]
     },
     "metadata": {},
     "output_type": "display_data"
    },
    {
     "data": {
      "text/latex": [
       "$\\displaystyle - \\frac{\\pi Kn \\left(\\operatorname{v_{1}}{\\left(y \\right)} - \\operatorname{v_{1 left}}{\\left(y \\right)}\\right)}{2 m} + \\frac{\\pi^{\\frac{3}{2}} \\operatorname{b_{1}}{\\left(y \\right)}}{4} - \\frac{\\pi^{\\frac{3}{2}} \\operatorname{v_{1}}{\\left(y \\right)}}{4} = 0$"
      ],
      "text/plain": [
       "Eq(-pi*Kn*(v_1(y) - v_1_left(y))/(2*m) + pi**(3/2)*b_1(y)/4 - pi**(3/2)*v_1(y)/4, 0)"
      ]
     },
     "metadata": {},
     "output_type": "display_data"
    },
    {
     "data": {
      "text/latex": [
       "$\\displaystyle \\frac{2 \\pi Kn \\operatorname{b_{1 right}}{\\left(y \\right)} + \\pi^{\\frac{3}{2}} m \\operatorname{v_{1}}{\\left(y \\right)}}{2 \\pi Kn + \\pi^{\\frac{3}{2}} m}$"
      ],
      "text/plain": [
       "(2*pi*Kn*b_1_right(y) + pi**(3/2)*m*v_1(y))/(2*pi*Kn + pi**(3/2)*m)"
      ]
     },
     "metadata": {},
     "output_type": "display_data"
    },
    {
     "data": {
      "text/latex": [
       "$\\displaystyle \\frac{2 \\pi Kn \\operatorname{v_{1 left}}{\\left(y \\right)} + \\pi^{\\frac{3}{2}} m \\operatorname{b_{1}}{\\left(y \\right)}}{2 \\pi Kn + \\pi^{\\frac{3}{2}} m}$"
      ],
      "text/plain": [
       "(2*pi*Kn*v_1_left(y) + pi**(3/2)*m*b_1(y))/(2*pi*Kn + pi**(3/2)*m)"
      ]
     },
     "metadata": {},
     "output_type": "display_data"
    }
   ],
   "source": [
    "#define a grid from 0 to 1 along y axis with m partitions!\n",
    "#probably got these in the wrong order!\n",
    "b_1_right = Function('b_1_right') #needs to be left as this emanates from the top boundary\n",
    "v_1_left = Function('v_1_left') #needs to be right as this emanates from the bottom boundary\n",
    "m = symbols('m')\n",
    "finite = ee.copy()\n",
    "finite[0] = ee[0].subs(Derivative(b_1(y),y), ((b_1_right(y)-b_1(y))/m))\n",
    "finite[1] = ee[1].subs(Derivative(v_1(y),y), (v_1(y)-v_1_left(y))/m)\n",
    "display(finite[0])\n",
    "display(finite[1])\n",
    "\n",
    "#dont think this needs to be solved for\n",
    "display(solve(finite[0], b_1(y))[0])\n",
    "display(solve(finite[1], v_1(y))[0])"
   ]
  },
  {
   "cell_type": "code",
   "execution_count": 140,
   "id": "behind-titanium",
   "metadata": {},
   "outputs": [
    {
     "name": "stdout",
     "output_type": "stream",
     "text": [
      "1\n",
      "2\n",
      "[[ 1.          0.          0.          0.          0.          0.        ]\n",
      " [-0.18412359  1.          0.          0.         -0.81587641  0.        ]\n",
      " [ 0.         -0.18412359  1.          0.          0.         -0.81587641]\n",
      " [-0.81587641  0.          0.          1.         -0.18412359  0.        ]\n",
      " [ 0.         -0.81587641  0.          0.          1.         -0.18412359]\n",
      " [ 0.          0.          0.          0.          0.          1.        ]]\n",
      "[0.         0.22465086 0.44930173]\n",
      "[0.05069827 0.27534914 0.5       ]\n",
      "0.0\n",
      "2.0\n",
      "[0.05069827 0.5        0.94930173]\n"
     ]
    },
    {
     "data": {
      "text/plain": [
       "[<matplotlib.lines.Line2D at 0x121df0eb8>]"
      ]
     },
     "execution_count": 140,
     "metadata": {},
     "output_type": "execute_result"
    },
    {
     "data": {
      "image/png": "[encoded data removed]",
      "text/plain": [
       "<Figure size 432x288 with 1 Axes>"
      ]
     },
     "metadata": {
      "needs_background": "light"
     },
     "output_type": "display_data"
    }
   ],
   "source": [
    "#eqn of form A*vb = x \n",
    "\n",
    "#works for N=1 trial function\n",
    "# variance from no slip is slowere as a function of Kn compared to the actual solution!\n",
    "\n",
    "\n",
    "\n",
    "#now includes the BC!\n",
    "steps = 3 #number of steps for both v and b\n",
    "h = 1/(steps-1) #step size!\n",
    "\n",
    "#gotta be a better way but this works big time!\n",
    "BCs = [0, 2*steps-1] \n",
    "\n",
    "kn = 0.1\n",
    "\n",
    "A = np.zeros((2*steps, 2*steps)) #square matrix with v(0), v(0+h)...v(1), b(0), b(0+h), ..., b(1)\n",
    "\n",
    "#A[0][0] = 1 #boundary conditions don't depend on anything else!\n",
    "#A[-1][-1] = 1\n",
    "\n",
    "#first loop does the equation for v ie for c_y > 0\n",
    "#set Kn = 0.1\n",
    "for i in range(steps):\n",
    "    A[i][i] = 1 #v_1 #needs to be one to be consistant with the boundary conditions!\n",
    "    if i not in BCs:\n",
    "        print(i)\n",
    "        A[i][i-1] = -2*np.pi*kn/(2*np.pi*kn + np.pi**(3/2)*h) #v_1 deriv!\n",
    "        A[i][i+steps] = -np.pi**(3/2)*h/(2*np.pi*kn + np.pi**(3/2)*h) #b_1\n",
    "    \n",
    "#print(A[steps])\n",
    "#print(A)\n",
    "\n",
    "#steps for b_1\n",
    "for i in range(steps,2*steps):\n",
    "    A[i][i] = 1 #b_1\n",
    "    if i not in BCs:\n",
    "        A[i][i+1] = -2*np.pi*kn/(2*np.pi*kn + np.pi**(3/2)*h) #b_1 deriv!\n",
    "        A[i][i-steps] = -np.pi**(3/2)*h/(2*np.pi*kn + np.pi**(3/2)*h)  #v_1\n",
    "    \n",
    "print(A)\n",
    "    \n",
    "x = np.zeros(2*steps)\n",
    "x[-1] = 2 #this is the boundary condition!\n",
    "\n",
    "\n",
    "#dont think this is needed, solver will return this\n",
    "#vb = np.zeros(2*steps+1) #array containing v at every point then b at every point\n",
    "\n",
    "#vb = np.linalg.solve(A, x)\n",
    "vb = np.linalg.inv(A)@x\n",
    "#print(vb)\n",
    "\n",
    "v = vb[:steps]\n",
    "b = vb[steps:]\n",
    "\n",
    "print(v/4)\n",
    "print(b/4)\n",
    "\n",
    "\n",
    "print(v[0])\n",
    "print(b[-1])\n",
    "\n",
    "u_x_finite = b/4+v/4\n",
    "\n",
    "print(u_x_finite)\n",
    "\n",
    "#print(2*kn/h)\n",
    "\n",
    "#print(2*kn/h+np.sqrt(np.pi))\n",
    "\n",
    "\n",
    "y_vals = np.linspace(0,1, steps)\n",
    "#print(y_vals)\n",
    "plt.plot(y_vals, u_x_finite)"
   ]
  },
  {
   "cell_type": "code",
   "execution_count": 154,
   "id": "choice-growth",
   "metadata": {},
   "outputs": [
    {
     "data": {
      "text/plain": [
       "False"
      ]
     },
     "metadata": {},
     "output_type": "display_data"
    },
    {
     "data": {
      "text/plain": [
       "{b_1(y)}"
      ]
     },
     "metadata": {},
     "output_type": "display_data"
    },
    {
     "data": {
      "text/plain": [
       "False"
      ]
     },
     "metadata": {},
     "output_type": "display_data"
    },
    {
     "data": {
      "text/plain": [
       "{v_1(y)}"
      ]
     },
     "metadata": {},
     "output_type": "display_data"
    },
    {
     "data": {
      "text/plain": [
       "True"
      ]
     },
     "metadata": {},
     "output_type": "display_data"
    },
    {
     "data": {
      "text/plain": [
       "{b_1(y)}"
      ]
     },
     "metadata": {},
     "output_type": "display_data"
    }
   ],
   "source": [
    "for i in ee[0].lhs.args:\n",
    "    display(i.has(Derivative))\n",
    "    display(i.find(Function))"
   ]
  },
  {
   "cell_type": "code",
   "execution_count": 116,
   "id": "suspected-zimbabwe",
   "metadata": {},
   "outputs": [
    {
     "data": {
      "text/latex": [
       "$\\displaystyle \\operatorname{b_{1}}{\\left(y \\right)} = \\frac{4 Kn}{2 Kn + \\sqrt{\\pi}} + \\frac{2 \\sqrt{\\pi} y}{2 Kn + \\sqrt{\\pi}}$"
      ],
      "text/plain": [
       "Eq(b_1(y), 4*Kn/(2*Kn + sqrt(pi)) + 2*sqrt(pi)*y/(2*Kn + sqrt(pi)))"
      ]
     },
     "metadata": {},
     "output_type": "display_data"
    },
    {
     "data": {
      "text/latex": [
       "$\\displaystyle \\operatorname{v_{1}}{\\left(y \\right)} = \\frac{2 \\sqrt{\\pi} y}{2 Kn + \\sqrt{\\pi}}$"
      ],
      "text/plain": [
       "Eq(v_1(y), 2*sqrt(pi)*y/(2*Kn + sqrt(pi)))"
      ]
     },
     "metadata": {},
     "output_type": "display_data"
    }
   ],
   "source": [
    "\n",
    "res = dsolve_system(ee, [b_1(y), v_1(y)], ics={b_1(1): 2, v_1(0): 0})\n",
    "display(res[0][0])\n",
    "display(res[0][1])\n",
    "\n",
    "#res = dsolve_system(ee, [v_1(y), v_2(y), b_1(y), b_2(y)], ics={b_1(1): 2, b_2(1):0, v_1(0): 0, v_2(0): 0})\n",
    "#display(res[0][2])\n",
    "#display(res[0][3])\n"
   ]
  },
  {
   "cell_type": "code",
   "execution_count": 117,
   "id": "decreased-jerusalem",
   "metadata": {},
   "outputs": [
    {
     "data": {
      "text/latex": [
       "$\\displaystyle \\frac{2 \\sqrt{\\pi} y}{2 Kn + \\sqrt{\\pi}}$"
      ],
      "text/plain": [
       "2*sqrt(pi)*y/(2*Kn + sqrt(pi))"
      ]
     },
     "metadata": {},
     "output_type": "display_data"
    },
    {
     "data": {
      "text/latex": [
       "$\\displaystyle \\frac{4 Kn}{2 Kn + \\sqrt{\\pi}} + \\frac{2 \\sqrt{\\pi} y}{2 Kn + \\sqrt{\\pi}}$"
      ],
      "text/plain": [
       "4*Kn/(2*Kn + sqrt(pi)) + 2*sqrt(pi)*y/(2*Kn + sqrt(pi))"
      ]
     },
     "metadata": {},
     "output_type": "display_data"
    },
    {
     "data": {
      "text/latex": [
       "$\\displaystyle \\frac{1.0 \\left(Kn + \\sqrt{\\pi} y\\right)}{2 Kn + \\sqrt{\\pi}}$"
      ],
      "text/plain": [
       "1.0*(Kn + sqrt(pi)*y)/(2*Kn + sqrt(pi))"
      ]
     },
     "metadata": {},
     "output_type": "display_data"
    }
   ],
   "source": [
    "b_1 = res[0][0].rhs\n",
    "v_1 = res[0][1].rhs\n",
    "\n",
    "display(v_1)\n",
    "display(b_1)\n",
    "ures = 1/4*(v_1+b_1)\n",
    "display(ures.simplify())"
   ]
  },
  {
   "cell_type": "code",
   "execution_count": 118,
   "id": "measured-detroit",
   "metadata": {},
   "outputs": [],
   "source": [
    "h1 = c_x*b_1 #lower boundary\n",
    "h2 = c_x*v_1 #top boundary"
   ]
  },
  {
   "cell_type": "code",
   "execution_count": 119,
   "id": "arranged-linux",
   "metadata": {},
   "outputs": [],
   "source": [
    "u_f = (pi**(-3/2)*integrate(c_x*h1*exp(-(c_x**2+c_y**2+c_z**2)), (c_x, -oo, oo), (c_y, 0, oo), (c_z, -oo, oo)) +\n",
    "       pi**(-3/2)*integrate(c_x*h2*exp(-(c_x**2+c_y**2+c_z**2)), (c_x, -oo, oo), (c_y, -oo, 0), (c_z, -oo, oo)))"
   ]
  },
  {
   "cell_type": "code",
   "execution_count": 120,
   "id": "tracked-contemporary",
   "metadata": {},
   "outputs": [
    {
     "data": {
      "text/latex": [
       "$\\displaystyle \\frac{\\pi^{0.5} y}{4 Kn + 2 \\sqrt{\\pi}} + \\frac{- \\frac{2 \\left(- \\frac{\\pi^{\\frac{3}{2}} Kn}{2} - \\frac{\\pi^{2} y}{4}\\right)}{4 Kn + 2 \\sqrt{\\pi}} + \\frac{2 \\left(\\frac{\\pi^{\\frac{3}{2}} Kn}{2} + \\frac{\\pi^{2} y}{4}\\right)}{4 Kn + 2 \\sqrt{\\pi}}}{\\pi^{1.5}}$"
      ],
      "text/plain": [
       "pi**0.5*y/(4*Kn + 2*sqrt(pi)) + pi**(-1.5)*(-2*(-pi**(3/2)*Kn/2 - pi**2*y/4)/(4*Kn + 2*sqrt(pi)) + 2*(pi**(3/2)*Kn/2 + pi**2*y/4)/(4*Kn + 2*sqrt(pi)))"
      ]
     },
     "metadata": {},
     "output_type": "display_data"
    }
   ],
   "source": [
    "display(u_f)\n",
    "\n"
   ]
  },
  {
   "cell_type": "code",
   "execution_count": 104,
   "id": "vietnamese-bahrain",
   "metadata": {},
   "outputs": [
    {
     "data": {
      "text/latex": [
       "$\\displaystyle \\frac{4 Kn}{2 Kn + \\sqrt{\\pi}} + \\frac{2 \\sqrt{\\pi} y}{2 Kn + \\sqrt{\\pi}}$"
      ],
      "text/plain": [
       "4*Kn/(2*Kn + sqrt(pi)) + 2*sqrt(pi)*y/(2*Kn + sqrt(pi))"
      ]
     },
     "metadata": {},
     "output_type": "display_data"
    }
   ],
   "source": [
    "b_1 = expand(res[0][0].rhs)\n",
    "display(b_1)"
   ]
  },
  {
   "cell_type": "code",
   "execution_count": 131,
   "id": "computational-eugene",
   "metadata": {},
   "outputs": [
    {
     "data": {
      "text/latex": [
       "$\\displaystyle \\frac{Kn}{2 Kn + \\sqrt{\\pi}} + \\frac{\\sqrt{\\pi} y}{2 Kn + \\sqrt{\\pi}}$"
      ],
      "text/plain": [
       "Kn/(2*Kn + sqrt(pi)) + sqrt(pi)*y/(2*Kn + sqrt(pi))"
      ]
     },
     "metadata": {},
     "output_type": "display_data"
    }
   ],
   "source": [
    "#u_x_res = u_x.subs([(b_1(y), v_1(y)) (res[0][1].rhs, res[0][0].rhs))\n",
    "u_x_res = u_x.subs([(v_1(y), res[0][0].rhs), (b_1(y), res[0][1].rhs)])\n",
    "display(u_x_res)"
   ]
  },
  {
   "cell_type": "code",
   "execution_count": null,
   "id": "periodic-parks",
   "metadata": {},
   "outputs": [],
   "source": []
  }
 ],
 "metadata": {
  "kernelspec": {
   "display_name": "Python 3",
   "language": "python",
   "name": "python3"
  },
  "language_info": {
   "codemirror_mode": {
    "name": "ipython",
    "version": 3
   },
   "file_extension": ".py",
   "mimetype": "text/x-python",
   "name": "python",
   "nbconvert_exporter": "python",
   "pygments_lexer": "ipython3",
   "version": "3.7.3"
  }
 },
 "nbformat": 4,
 "nbformat_minor": 5
}

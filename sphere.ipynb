{
 "cells": [
  {
   "cell_type": "code",
   "execution_count": 1,
   "id": "finnish-shell",
   "metadata": {},
   "outputs": [],
   "source": [
    "from sympy import *\n",
    "import numpy as np\n",
    "import matplotlib.pyplot as plt\n",
    "%matplotlib inline"
   ]
  },
  {
   "cell_type": "code",
   "execution_count": 2,
   "id": "flush-officer",
   "metadata": {},
   "outputs": [],
   "source": [
    "#Current problems!\n",
    "\n",
    "#Heaviside undefined point, set to 0 at the moment for all of them!\n",
    "#incorporating the delta functions into M\n",
    "#'edges' of integrations never include Heavisides!\n",
    "#still have a c_r and c_al in euler equations!\n",
    "#organisation of derivatives in euler equations, need to confirm the structure that they will form!\n",
    "\n",
    "\n",
    "#this will need to be a bit more sophisticated, first order has 3 terms! second order has 7!\n",
    "#will also need to be able to determine which go with cos and which with sin. also which terms are axissymmetric!\n",
    "#maybe replace this with an order parameter, then size is determined during the trial function generation!\n",
    "size = 3\n",
    "\n",
    "#dont think these are needed!\n",
    "space_dim = 2\n",
    "vel_dim = 3\n",
    "\n",
    "#start by assuming the number of regions and there domians is known, can use the string parsing thing to get them if just a heaviside is passed through!\n",
    "#this might not be required, can just use len(h)!\n",
    "regions = 4\n",
    "\n",
    "\n",
    "#note the r at the front of the string stops pythons default \\ behaviour and makes it LATEX\n",
    "c_r, c_al, c_phi, al, Kn = symbols(r'c_r, c_{\\alpha}, c_{\\phi}, \\alpha, Kn')\n",
    "\n",
    "#dont think this does anything at all lol!\n",
    "r = symbols('r', positive=True, real=True, finite=True)\n",
    "chi, V, psi = symbols(r'\\chi, V, \\psi')\n",
    "theta = symbols(r'\\theta')\n",
    "\n",
    "\n",
    "\n",
    "\n",
    "\n",
    "vs = symbols('v1:%d'%(size+1))\n",
    "bs = symbols('b1:%d'%(size+1))\n",
    "ls = symbols('l1:%d'%(size+1))\n",
    "ws = symbols('w1:%d'%(size+1))\n",
    "\n",
    "\n",
    "#may want to have (r) here -> was required for couette flow\n",
    "vs = [Function(x)(r) for x in vs]\n",
    "bs = [Function(x)(r) for x in bs]\n",
    "ls = [Function(x)(r) for x in ls]\n",
    "ws = [Function(x)(r) for x in ws]\n",
    "\n",
    "terms = vs+bs+ls+ws\n",
    "\n",
    "\n",
    "#c_al is antisym, rest are symmetric\n",
    "\n",
    "#will want a way to automatically produce this later!\n",
    "hv = vs[0]*cos(al) + vs[1]*c_r*cos(al) + vs[2]*c_al*sin(al)\n",
    "hb = bs[0]*cos(al) + bs[1]*c_r*cos(al) + bs[2]*c_al*sin(al)\n",
    "hl = ls[0]*cos(al) + ls[1]*c_r*cos(al) + ls[2]*c_al*sin(al)\n",
    "hw = ws[0]*cos(al) + ws[1]*c_r*cos(al) + ws[2]*c_al*sin(al)\n",
    "\n",
    "\n",
    "h_dom = [[(chi, 0, asin(1/r)), (psi, 0, 2*pi), (V, 0, oo)], \n",
    "         [(chi, asin(1/r), pi/2), (psi, 0, 2*pi), (V, 0, oo)], \n",
    "         [(chi, pi/2, pi-asin(1/r)), (psi, 0, 2*pi), (V, 0, oo)],\n",
    "         [(chi, pi-asin(1/r), pi), (psi, 0, 2*pi), (V, 0, oo)]]\n",
    "\n",
    "#regions are designed for this to be the case!\n",
    "hn_dom = h_dom[::-1]\n",
    "\n",
    "h = [hv, hb, hl, hw]\n",
    "#cannot just choose 0, need to be more careful later!\n",
    "#h_heavy = (hv*Heaviside(asin(1/r)-chi, 0) + \n",
    "#           hb*(Heaviside(chi-asin(1/r), 0) - Heaviside(chi-pi/2, 0)) + \n",
    "#           hl*(Heaviside(chi-pi/2, 0) - Heaviside(chi- pi + asin(1/r), 0)) +\n",
    "#           hw*Heaviside(chi- pi + asin(1/r), 0))\n",
    "\n",
    "#display(h_heavy)\n",
    "\n"
   ]
  },
  {
   "cell_type": "code",
   "execution_count": 3,
   "id": "polish-discrimination",
   "metadata": {},
   "outputs": [],
   "source": [
    "#substitutes the c's for the spherical coords in terms of V and fancy X\n",
    "\n",
    "\n",
    "#shit house way of doing this!\n",
    "for i in range(len(h)):\n",
    "    h[i] = h[i].subs([(c_r, V*cos(chi)), (c_al, V*sin(chi)*sin(psi)), (c_phi, V*sin(chi)*cos(psi))])\n",
    "                    \n",
    "#h_heavy = h_heavy.subs([(c_r, V*cos(chi)), (c_al, V*sin(chi)*sin(psi)), (c_phi, V*sin(chi)*cos(psi))])\n",
    "#hn_heavy = h_heavy.copy()\n",
    "#hn_heavy = hn_heavy.subs([(chi, pi-chi), (psi, psi+pi)])\n",
    "\n",
    "\n",
    "hn = h.copy()\n",
    "\n",
    "for i in range(len(h)):\n",
    "    hn[i] = hn[i].subs([(chi, pi-chi), (psi, psi+pi)])\n",
    "    \n",
    "#display(h[0])\n",
    "#display(hn[0])\n",
    "\n",
    "#heavisides = [Heaviside(asin(1/r)-chi, 0), \n",
    "#              Heaviside(chi-asin(1/r), 0) - Heaviside(chi-pi/2, 0), \n",
    "#              Heaviside(chi-pi/2, 0) - Heaviside(chi- pi + asin(1/r), 0), \n",
    "#              Heaviside(chi- pi + asin(1/r), 0)]\n",
    "\n",
    "#hn_heavy = (hn[3]*Heaviside(asin(1/r)-chi, 0) + \n",
    "#           hn[2]*(Heaviside(chi-asin(1/r), 0) - Heaviside(chi-pi/2, 0)) + \n",
    "#           hn[1]*(Heaviside(chi-pi/2, 0) - Heaviside(chi- pi + asin(1/r), 0)) +\n",
    "#           hn[0]*Heaviside(chi- pi + asin(1/r), 0))\n",
    "\n",
    "#display(hn_heavy)"
   ]
  },
  {
   "cell_type": "code",
   "execution_count": 4,
   "id": "finished-passenger",
   "metadata": {},
   "outputs": [],
   "source": [
    "\n",
    "#note that this doesn't include anything about the edges of the heaviside!\n",
    "def disc_integral(kernel, func, domain, regions):\n",
    "    results = 0\n",
    "    for i in range(regions):\n",
    "        #print(i)\n",
    "        #print(domain[i])\n",
    "        #don't like this but velocity is always integrated over 3 dims i think??\n",
    "        #can do this better with the unpack * thing!\n",
    "        expr = (kernel*func[i]).expand()\n",
    "        #display(expr)\n",
    "        #this means the expression is a sum of terms and needs to be split \n",
    "        #for efficient integration!\n",
    "        if type(expr) == Add:\n",
    "            #print('split')\n",
    "            results += compute_big_integral(expr, domain[i])#[0], domain[i][1], domain[i][2])\n",
    "        else:\n",
    "            results += integrate(kernel*func[i], *domain[i])#[0], domain[i][1], domain[i][2])\n",
    "        \n",
    "        \n",
    "    return results\n",
    "\n",
    "#ideally use this everytime, needs some way to stop this for single term kernels though, maybe type diff of add vs mul??\n",
    "#not needed now, implemented above!\n",
    "def compute_big_discs(kernel, func, domain, regions):\n",
    "    results = 0\n",
    "    for i in range(regions):\n",
    "        #print(i)\n",
    "        #print(domain[i])\n",
    "        #don't like this but velocity is always integrated over 3 dims i think??\n",
    "        #can do this better with the unpack * thing!\n",
    "        #results += integrate(kernel*func[i], domain[i][0], domain[i][1], domain[i][2])\n",
    "        results += compute_big_integral(kernel*func[i], domain[i][0], domain[i][1], domain[i][2])\n",
    "    return results\n",
    "\n",
    "#integrates each term individually, as sympy doesn't do this for some reason!\n",
    "def compute_big_integral(to_integrate, domain):\n",
    "    res = 0\n",
    "    #display(to_integrate)\n",
    "    expr = (to_integrate.expand()).args\n",
    "    \n",
    "    for i in expr:\n",
    "        #display(i)\n",
    "        res += integrate(i, *domain)\n",
    "        \n",
    "    return res\n",
    "\n",
    "#print(hn_dom[0])\n",
    "#u_r_test = pi**(-3/2)*disc_integral(V*cos(pi-chi)*exp(-V**2)*V**2*sin(chi), hn, hn_dom, regions)\n",
    "#display(u_r_test.simplify())"
   ]
  },
  {
   "cell_type": "code",
   "execution_count": 5,
   "id": "understood-interstate",
   "metadata": {},
   "outputs": [],
   "source": [
    "#compute L[h(-c)], assume no temperature perturbation, however we do have a density perturbation!\n",
    "\n",
    "#note currently using hn for these integrations but not sure why!\n",
    "#should be easy to change now though!\n",
    "#display(V*cos(pi-chi)*exp(-V**2)*V**2*sin(chi)*h[0])\n",
    "u_r = pi**(-3/2)*disc_integral(V*cos(pi-chi)*exp(-V**2)*V**2*sin(chi), h, h_dom, regions)\n",
    "\n",
    "#display(u_r)\n",
    "u_al = pi**(-3/2)*disc_integral(V*sin(pi-chi)*sin(psi+pi)*exp(-V**2)*V**2*sin(chi), h, h_dom, regions)\n",
    "\n",
    "#display(u_al)\n",
    "\n",
    "\n",
    "sigma = pi**(-3/2)*disc_integral(exp(-V**2)*V**2*sin(chi), h, h_dom, regions)\n",
    "\n",
    "\n",
    "#display(sigma)"
   ]
  },
  {
   "cell_type": "code",
   "execution_count": 6,
   "id": "physical-shape",
   "metadata": {},
   "outputs": [
    {
     "data": {
      "text/plain": [
       "(-1, sin(\\chi))"
      ]
     },
     "metadata": {},
     "output_type": "display_data"
    },
    {
     "data": {
      "text/plain": [
       "sympy.core.mul.Mul"
      ]
     },
     "metadata": {},
     "output_type": "display_data"
    },
    {
     "name": "stdout",
     "output_type": "stream",
     "text": [
      "True\n"
     ]
    },
    {
     "data": {
      "text/plain": [
       "sympy.core.add.Add"
      ]
     },
     "metadata": {},
     "output_type": "display_data"
    }
   ],
   "source": [
    "#testing stuff done here!\n",
    "\n",
    "#doesn't lool like integrating heavyside fns works very well\n",
    "#might still be able to extract the integration limits from the heavysides????\n",
    "#could also try this as a piecewise func instead??\n",
    "\n",
    "#still doesn't look great for heaviside, but also heaviside needs to be changed in some way when going from h to h(-c)!!!\n",
    "#u_r_heavy = pi**(-3/2)*integrate(hn_heavy*V*cos(pi-chi)*exp(-V**2)*V**2*sin(chi), (chi, 0, pi), (psi, 0, 2*pi), (V, 0, oo)).rewrite(Piecewise).doit()\n",
    "#u_r_heavy = refine(pi**(-3/2)*integrate(Heaviside(chi-asin(1/r), 1)*V*cos(pi-chi)*exp(-V**2)*V**2*sin(chi), (chi, 0, pi), (psi, 0, 2*pi), (V, 0, oo)).rewrite(Piecewise).doit(), Q.positive(r))\n",
    "#display(refine(u_r_heavy))\n",
    "\n",
    "display((-sin(chi)).expand().args)\n",
    "display(type((-sin(chi)).expand()))\n",
    "if type((-sin(chi)).expand()) == Mul:\n",
    "    print(True)\n",
    "display(type((h[0]*sin(chi)).expand()))\n",
    "#display(((hn_heavy*V*cos(pi-chi)*exp(-V**2)*V**2*sin(chi)).expand()).args[0])"
   ]
  },
  {
   "cell_type": "code",
   "execution_count": 6,
   "id": "chinese-trauma",
   "metadata": {},
   "outputs": [],
   "source": [
    "#L operator using the negative h and the macro variables found earlier!\n",
    "L = [(sigma -2*V*cos(chi)*u_r - 2*V*sin(chi)*sin(psi)*u_al - hn[i]) for i in range(regions)]\n",
    "#display(L[0])\n",
    "#should have domains matching hn"
   ]
  },
  {
   "cell_type": "code",
   "execution_count": 9,
   "id": "intelligent-scoop",
   "metadata": {},
   "outputs": [],
   "source": [
    "#[(c_r, V*cos(chi)), (c_al, V*sin(chi)*sin(psi)), (c_phi, V*sin(chi)*cos(psi))]\n",
    "\n",
    "#only chi derivs are effected by heavisides!\n",
    "#may be easiest to have a D just with the regions and have a D with the deltas and stuff, as the deltas have to be integrated manually!\n",
    "\n",
    "#this does NOT include the dirac delta part\n",
    "#should have same domain as hn!\n",
    "D = [Kn*(-c_r*hn[i].diff(r) - c_al/r * hn[i].diff(al) + \n",
    "     (c_al**2 + c_phi**2)/r*diff_c_r(hn[i]) +  \n",
    "     (c_phi**2/r * cot(al)- c_r*c_al/r)*diff_c_al(hn[i]) - \n",
    "     (c_phi*c_al/r*cot(al) + c_r*c_phi/r)*diff_c_phi(hn[i])) for i in range(regions)]\n",
    "\n",
    "D = [(D[i].subs([(c_r, V*cos(chi)), (c_al, V*sin(chi)*sin(psi)), (c_phi, V*sin(chi)*cos(psi))])) for i in range(regions)]\n",
    "#display(D[0])"
   ]
  },
  {
   "cell_type": "code",
   "execution_count": 8,
   "id": "ranging-fifth",
   "metadata": {},
   "outputs": [],
   "source": [
    "#NOTE none of these include the derivs of the heaviside yet!\n",
    "\n",
    "#this should be earlier in the piece!\n",
    "\n",
    "#will need to include domains and stuff I think!\n",
    "def diff_c_r(func):\n",
    "    return cos(chi)*func.diff(V) - sin(chi)/V * func.diff(chi)\n",
    "\n",
    "    \n",
    "def diff_c_al(func):\n",
    "    return sin(psi) * sin(chi)*func.diff(V) + cos(psi)/(V*sin(chi))*func.diff(psi) + sin(psi)*cos(chi)/V * func.diff(chi)\n",
    "    \n",
    "    \n",
    "def diff_c_phi(func):\n",
    "    return cos(psi) * sin(chi)*func.diff(V) - sin(psi)/(V*sin(chi))*func.diff(psi) + cos(psi)*sin(chi)/V * func.diff(chi)"
   ]
  },
  {
   "cell_type": "code",
   "execution_count": 10,
   "id": "fatty-windows",
   "metadata": {},
   "outputs": [],
   "source": [
    "#need to create the D terms that come from the derivatives of the heavisides!\n",
    "#display(hn_heavy.diff(chi))\n",
    "#display(hn_dom[0])\n",
    "D_dirac = []\n",
    "\n",
    "diracs = []\n",
    "\n",
    "#probably not doing this the best way!!!\n",
    "for i in range(regions):\n",
    "    d_i_pos = []\n",
    "    d_i_neg = []\n",
    "\n",
    "    #exclude the end points!\n",
    "    #middle 0 is because we only have chi discs!\n",
    "    if hn_dom[i][0][1] not in [0, pi]:\n",
    "        d_i_pos.append(DiracDelta(chi-hn_dom[i][0][1]))\n",
    "        \n",
    "    #right order for negs\n",
    "    #this negative causes issues though as the args of this are not simple like for the other one!\n",
    "    #might be able to do a Mul vs Add type thing again!\n",
    "    if hn_dom[i][0][2] not in [0, pi]:\n",
    "        d_i_neg.append(DiracDelta(chi-hn_dom[i][0][2]))\n",
    "        \n",
    "    exprs = 0\n",
    "    #this is terrible!\n",
    "    for j in d_i_pos:\n",
    "        exprs += j*hn[i]\n",
    "    for j in d_i_neg:\n",
    "        exprs -= j*hn[i]\n",
    "    \n",
    "    D_dirac.append(exprs)\n",
    "    \n",
    "    #does it matter that the negative is not stored here???\n",
    "    #diracs.append([d_i_pos, d_i_neg].flatten())\n",
    "    \n",
    "    #this is also terrible but works based on the other shit!\n",
    "    #dont think this will scale well, but probably doesn't matter much as regions wont get very big?\n",
    "    diracs.append([d for sublist in [d_i_pos, d_i_neg] for d in sublist])\n",
    "    #diracs.append()\n",
    "    \n",
    "#display(diracs)\n",
    "#display(D_dirac[1])\n",
    "\n",
    "#for i in D_dirac:\n",
    "    #display(i)\n",
    "\n",
    "\n",
    "#dont think i want it to do the integration, need to have the choice of half space dirac integration!\n",
    "#display(integrate(D_dirac, (chi, 0, pi), (psi, 0, pi/4)))"
   ]
  },
  {
   "cell_type": "code",
   "execution_count": 11,
   "id": "electoral-rally",
   "metadata": {},
   "outputs": [],
   "source": [
    "#this 'integrates' the delta terms in M, start by choosing the half space dirac integral as 1/2\n",
    "\n",
    "#needs to be more sophisticated!\n",
    "delta_half = 1/2\n",
    "\n",
    "M_dirac_kernel = []\n",
    "for i in range(regions):\n",
    "    \n",
    "    #each region has 1 or 2 diracs!\n",
    "    expr = 0\n",
    "    for j in diracs[i]:\n",
    "        #display(solve(j.args[0], chi)[0])\n",
    "        delta_val = solve(j.args[0], chi)[0]\n",
    "        #display(delta_val)\n",
    "        #display(hn[i])\n",
    "        #this is very not clear atm! the kernel thing that is usually the same for each region \n",
    "        #is now different for each thing\n",
    "        #extra sin(chi) term comes from the kernel-> but chi needs to be replaced for this to work!\n",
    "        expr += delta_half*((h[i]*(D[-1-i] - L[-1-i] -2*theta*hn[-1-i]))*sin(chi)).subs([(chi, delta_val)])\n",
    "        #display(expr)\n",
    "    M_dirac_kernel.append(expr)\n",
    "    \n",
    "#display(M_dirac_kernel)\n",
    "#display(hn_dom)\n",
    "post_dirac_dom = [x[1:] for x in hn_dom]\n",
    "#display(post_dirac_dom)\n",
    "#exp(-V**2)*V**2*r**2*sin(al)\n",
    "\n",
    "M_dirac = disc_integral(exp(-V**2)*V**2*r**2*sin(al), M_dirac_kernel, post_dirac_dom, regions)\n",
    "#think this works!\n",
    "#display(M_dirac)\n",
    "    "
   ]
  },
  {
   "cell_type": "code",
   "execution_count": 184,
   "id": "printable-circular",
   "metadata": {},
   "outputs": [
    {
     "data": {
      "text/plain": [
       "\"Add(Mul(Integer(-1), Symbol('V'), Function('l2')(Symbol('r')), cos(Symbol('\\\\\\\\alpha')), cos(Symbol('\\\\\\\\chi'))), Mul(Integer(-1), Symbol('V'), Function('l3')(Symbol('r')), sin(Symbol('\\\\\\\\alpha')), sin(Symbol('\\\\\\\\chi')), sin(Symbol('\\\\\\\\psi'))), Mul(Function('l1')(Symbol('r')), cos(Symbol('\\\\\\\\alpha'))))\""
      ]
     },
     "metadata": {},
     "output_type": "display_data"
    },
    {
     "data": {
      "text/latex": [
       "$\\displaystyle \\left(- \\theta\\left(\\chi - \\frac{\\pi}{2}\\right) + \\theta\\left(\\chi - \\operatorname{asin}{\\left(\\frac{1}{r} \\right)}\\right)\\right) \\left(- V \\operatorname{l_{2}}{\\left(r \\right)} \\cos{\\left(\\alpha \\right)} \\cos{\\left(\\chi \\right)} - V \\operatorname{l_{3}}{\\left(r \\right)} \\sin{\\left(\\alpha \\right)} \\sin{\\left(\\chi \\right)} \\sin{\\left(\\psi \\right)} + \\operatorname{l_{1}}{\\left(r \\right)} \\cos{\\left(\\alpha \\right)}\\right)$"
      ],
      "text/plain": [
       "(-Heaviside(\\chi - pi/2, 0) + Heaviside(\\chi - asin(1/r), 0))*(-V*l2(r)*cos(\\alpha)*cos(\\chi) - V*l3(r)*sin(\\alpha)*sin(\\chi)*sin(\\psi) + l1(r)*cos(\\alpha))"
      ]
     },
     "metadata": {},
     "output_type": "display_data"
    }
   ],
   "source": [
    "#assume we are given the domains of the regions, but this could be useful to make it more general!\n",
    "display(srepr(hn_heavy.args[0].args[1]))\n",
    "display(hn_heavy.args[0])\n",
    "\n",
    "\n"
   ]
  },
  {
   "cell_type": "code",
   "execution_count": 12,
   "id": "athletic-bankruptcy",
   "metadata": {},
   "outputs": [],
   "source": [
    "#time to construct M!!!!\n",
    "#just try to get the complex euler equations for now, have to check how that goes with Couette flow!\n",
    "\n",
    "\n",
    "\n",
    "M_kernel = []\n",
    "\n",
    "for i in range(regions):\n",
    "    #should be looping backwards through L and D, might need to generalise if opposite regions are not opposite in list!\n",
    "    #might want to make a function for cumputing M since it is used twice!\n",
    "    M_kernel.append((h[i]*(D[-1-i] - L[-1-i] -2*theta*hn[-1-i])))\n",
    "\n",
    "#display(L[-1])\n",
    "#display(M_kernel[0])\n",
    "\n",
    "#for i in M_kernel:\n",
    "#    display(latex(i))\n",
    "\n",
    "#inconsistant use of word kernel!!!!\n",
    "M_no_delta = disc_integral(exp(-V**2)*V**2*sin(chi)*r**2*sin(al), M_kernel, h_dom, regions)\n",
    "#display(M_no_delta)\n"
   ]
  },
  {
   "cell_type": "code",
   "execution_count": 13,
   "id": "unauthorized-school",
   "metadata": {},
   "outputs": [],
   "source": [
    "#still need to add the delta part first!!\n",
    "#gotta fix these names by golly!\n",
    "M = M_dirac+M_no_delta\n",
    "#display(terms)\n",
    "ee = euler_equations(M, terms, (r))\n",
    "#display(ee[0])\n",
    "#this works exactly how we want!\n",
    "#can loop through the terms etc and get the coeffs for everything!\n",
    "#a = Poly(ee[0].lhs, vs[0](r))\n",
    "\n",
    "#display(a.coeffs()[0])\n",
    "#display(ee[1])\n",
    "#display(ee[2])\n",
    "#display(ee[3])"
   ]
  },
  {
   "cell_type": "code",
   "execution_count": 17,
   "id": "sustainable-leisure",
   "metadata": {},
   "outputs": [
    {
     "ename": "IndexError",
     "evalue": "list index out of range",
     "output_type": "error",
     "traceback": [
      "\u001b[0;31m---------------------------------------------------------------------------\u001b[0m",
      "\u001b[0;31mIndexError\u001b[0m                                Traceback (most recent call last)",
      "\u001b[0;32m<ipython-input-17-696a5520eff1>\u001b[0m in \u001b[0;36m<module>\u001b[0;34m\u001b[0m\n\u001b[1;32m     25\u001b[0m         \u001b[0;31m#display(eqn)\u001b[0m\u001b[0;34m\u001b[0m\u001b[0;34m\u001b[0m\u001b[0;34m\u001b[0m\u001b[0m\n\u001b[1;32m     26\u001b[0m         \u001b[0;31m#display(list(diff_in_ee[i])[j+1])\u001b[0m\u001b[0;34m\u001b[0m\u001b[0;34m\u001b[0m\u001b[0;34m\u001b[0m\u001b[0m\n\u001b[0;32m---> 27\u001b[0;31m         \u001b[0mtemp_eqs\u001b[0m\u001b[0;34m.\u001b[0m\u001b[0mappend\u001b[0m\u001b[0;34m(\u001b[0m\u001b[0msolve\u001b[0m\u001b[0;34m(\u001b[0m\u001b[0meqn\u001b[0m\u001b[0;34m,\u001b[0m \u001b[0mlist\u001b[0m\u001b[0;34m(\u001b[0m\u001b[0mdiff_in_ee\u001b[0m\u001b[0;34m[\u001b[0m\u001b[0mi\u001b[0m\u001b[0;34m]\u001b[0m\u001b[0;34m)\u001b[0m\u001b[0;34m[\u001b[0m\u001b[0mj\u001b[0m\u001b[0;34m]\u001b[0m\u001b[0;34m,\u001b[0m \u001b[0mexclude\u001b[0m\u001b[0;34m=\u001b[0m\u001b[0;34m[\u001b[0m\u001b[0mKn\u001b[0m\u001b[0;34m,\u001b[0m \u001b[0mal\u001b[0m\u001b[0;34m,\u001b[0m \u001b[0mtheta\u001b[0m\u001b[0;34m,\u001b[0m \u001b[0mc_r\u001b[0m\u001b[0;34m,\u001b[0m \u001b[0mc_al\u001b[0m\u001b[0;34m,\u001b[0m \u001b[0mr\u001b[0m\u001b[0;34m]\u001b[0m\u001b[0;34m,\u001b[0m \u001b[0mminimal\u001b[0m\u001b[0;34m=\u001b[0m\u001b[0;32mTrue\u001b[0m\u001b[0;34m,\u001b[0m \u001b[0mmanual\u001b[0m\u001b[0;34m=\u001b[0m\u001b[0;32mTrue\u001b[0m\u001b[0;34m,\u001b[0m \u001b[0mimplicit\u001b[0m\u001b[0;34m=\u001b[0m\u001b[0;32mTrue\u001b[0m\u001b[0;34m,\u001b[0m \u001b[0mcheck\u001b[0m\u001b[0;34m=\u001b[0m\u001b[0;32mFalse\u001b[0m\u001b[0;34m)\u001b[0m\u001b[0;34m)\u001b[0m\u001b[0;34m\u001b[0m\u001b[0;34m\u001b[0m\u001b[0m\n\u001b[0m\u001b[1;32m     28\u001b[0m \u001b[0;34m\u001b[0m\u001b[0m\n\u001b[1;32m     29\u001b[0m     \u001b[0;31m#display(temp_eqs)\u001b[0m\u001b[0;34m\u001b[0m\u001b[0;34m\u001b[0m\u001b[0;34m\u001b[0m\u001b[0m\n",
      "\u001b[0;31mIndexError\u001b[0m: list index out of range"
     ]
    }
   ],
   "source": [
    "diff_terms = [Derivative(x) for x in terms]\n",
    "\n",
    "diff_in_ee = []\n",
    "\n",
    "\n",
    "#determines which derivatives are in which euler equations\n",
    "for i in ee:\n",
    "    diff_in_ee.append(i.atoms(Derivative))\n",
    "#display(diff_terms)\n",
    "\n",
    "#seems to put the ee's in reverse order, not sure if that can be trusted tbh\n",
    "#will assume this for now, but have to make sure it generalises properly!\n",
    "ee = ee[::-1]\n",
    "diff_in_ee = diff_in_ee[::-1]\n",
    "#display(diff_in_ee)\n",
    "\n",
    "solve_ee = []\n",
    "\n",
    "#should almost be done recursivly!\n",
    "#this doesn't take forever now but probs still to slow!\n",
    "for i in range(int(len(ee)/size)):\n",
    "    temp_eqs = []\n",
    "    for j in range(size):\n",
    "        eqn = ee[i+j]\n",
    "        #display(eqn)\n",
    "        #display(list(diff_in_ee[i])[j+1])\n",
    "        temp_eqs.append(solve(eqn, list(diff_in_ee[i])[j], exclude=[Kn, al, theta, c_r, c_al, r], minimal=True, manual=True, implicit=True, check=False))\n",
    "    \n",
    "    #display(temp_eqs)\n",
    "        \n",
    "        \n",
    "\n",
    "\n",
    "#fin_eqs = solve(ee, diff_terms, quick=True)\n",
    "#display(fin_eqs[0])"
   ]
  },
  {
   "cell_type": "code",
   "execution_count": 16,
   "id": "oriental-discussion",
   "metadata": {},
   "outputs": [
    {
     "data": {
      "text/latex": [
       "$\\displaystyle \\frac{0.000994718394324346 \\left(890.932479493073 Kn r^{7} \\frac{d}{d r} \\operatorname{w_{2}}{\\left(r \\right)} - 890.932479493073 Kn r^{6} \\sqrt{r^{2} - 1.0} \\frac{d}{d r} \\operatorname{w_{2}}{\\left(r \\right)} + 89.0932479493073 Kn r^{6} \\operatorname{w_{2}}{\\left(r \\right)} - 467.739551733863 Kn r^{6} \\operatorname{w_{3}}{\\left(r \\right)} + \\frac{445.466239746537 Kn r^{6} \\operatorname{w_{3}}{\\left(r \\right)}}{\\cos^{2}{\\left(\\alpha \\right)}} - 89.0932479493073 Kn r^{5} \\sqrt{r^{2} - 1.0} \\operatorname{w_{2}}{\\left(r \\right)} + 467.739551733863 Kn r^{5} \\sqrt{r^{2} - 1.0} \\operatorname{w_{3}}{\\left(r \\right)} - \\frac{445.466239746537 Kn r^{5} \\sqrt{r^{2} - 1.0} \\operatorname{w_{3}}{\\left(r \\right)}}{\\cos^{2}{\\left(\\alpha \\right)}} - 1336.39871923961 Kn r^{5} \\sqrt{r^{2} - 1.0} \\frac{d}{d r} \\operatorname{w_{2}}{\\left(r \\right)} - 502.654824574367 Kn r^{5} \\operatorname{w_{1}}{\\left(r \\right)} - 1781.86495898615 Kn r^{5} \\frac{d}{d r} \\operatorname{w_{2}}{\\left(r \\right)} - 668.199359619805 Kn r^{4} \\sqrt{r^{2} - 1.0} \\operatorname{w_{2}}{\\left(r \\right)} - 44.5466239746537 Kn r^{4} \\operatorname{w_{2}}{\\left(r \\right)} + 233.869775866932 Kn r^{4} \\operatorname{w_{3}}{\\left(r \\right)} - \\frac{222.733119873268 Kn r^{4} \\operatorname{w_{3}}{\\left(r \\right)}}{\\cos^{2}{\\left(\\alpha \\right)}} + 1336.39871923961 Kn r^{3} \\sqrt{r^{2} - 1.0} \\frac{d}{d r} \\operatorname{w_{2}}{\\left(r \\right)} + 890.932479493073 Kn r^{3} \\frac{d}{d r} \\operatorname{w_{2}}{\\left(r \\right)} - 334.099679809902 Kn r^{2} \\sqrt{r^{2} - 1.0} \\operatorname{w_{2}}{\\left(r \\right)} + 417.624599762378 Kn r^{2} \\sqrt{r^{2} - 1.0} \\operatorname{w_{3}}{\\left(r \\right)} - \\frac{334.099679809902 Kn r^{2} \\sqrt{r^{2} - 1.0} \\operatorname{w_{3}}{\\left(r \\right)}}{\\cos^{2}{\\left(\\alpha \\right)}} - 512.286175708517 Kn r^{2} \\operatorname{w_{2}}{\\left(r \\right)} + 350.804663800398 Kn r^{2} \\operatorname{w_{3}}{\\left(r \\right)} - \\frac{222.733119873268 Kn r^{2} \\operatorname{w_{3}}{\\left(r \\right)}}{\\cos^{2}{\\left(\\alpha \\right)}} + 467.739551733863 Kn \\sqrt{r^{2} - 1.0} \\operatorname{w_{2}}{\\left(r \\right)} - 116.934887933466 Kn \\sqrt{r^{2} - 1.0} \\operatorname{w_{3}}{\\left(r \\right)} + 467.739551733863 Kn \\operatorname{w_{2}}{\\left(r \\right)} - 116.934887933466 Kn \\operatorname{w_{3}}{\\left(r \\right)} - 3563.72991797229 \\theta r^{7} \\operatorname{w_{1}}{\\left(r \\right)} + 3563.72991797229 \\theta r^{6} \\sqrt{r^{2} - 1.0} \\operatorname{w_{1}}{\\left(r \\right)} + 2010.61929829747 \\theta r^{6} \\operatorname{w_{2}}{\\left(r \\right)} + 1781.86495898615 \\theta r^{5} \\sqrt{r^{2} - 1.0} \\operatorname{w_{1}}{\\left(r \\right)} + 3563.72991797229 \\theta r^{5} \\operatorname{w_{1}}{\\left(r \\right)} - 2010.61929829747 \\theta r^{4} \\sqrt{r^{2} - 1.0} \\operatorname{w_{2}}{\\left(r \\right)} - 2010.61929829747 \\theta r^{4} \\operatorname{w_{2}}{\\left(r \\right)} + 668.199359619805 r^{7} \\operatorname{b_{1}}{\\left(r \\right)} - 502.654824574367 r^{7} \\operatorname{b_{2}}{\\left(r \\right)} + 668.199359619805 r^{7} \\operatorname{l_{1}}{\\left(r \\right)} + 502.654824574367 r^{7} \\operatorname{l_{2}}{\\left(r \\right)} - 1781.86495898615 r^{7} \\operatorname{v_{1}}{\\left(r \\right)} - 668.199359619805 r^{6} \\sqrt{r^{2} - 1.0} \\operatorname{b_{1}}{\\left(r \\right)} + 502.654824574367 r^{6} \\sqrt{r^{2} - 1.0} \\operatorname{b_{2}}{\\left(r \\right)} - 668.199359619805 r^{6} \\sqrt{r^{2} - 1.0} \\operatorname{l_{1}}{\\left(r \\right)} - 502.654824574367 r^{6} \\sqrt{r^{2} - 1.0} \\operatorname{l_{2}}{\\left(r \\right)} + 1781.86495898615 r^{6} \\sqrt{r^{2} - 1.0} \\operatorname{v_{1}}{\\left(r \\right)} - 283.592616144883 r^{6} \\operatorname{b_{1}}{\\left(r \\right)} - 251.327412287183 r^{6} \\operatorname{b_{2}}{\\left(r \\right)} + 283.592616144883 r^{6} \\operatorname{l_{1}}{\\left(r \\right)} + 251.327412287183 r^{6} \\operatorname{l_{2}}{\\left(r \\right)} - 445.466239746537 r^{6} \\operatorname{v_{1}}{\\left(r \\right)} - 502.654824574367 r^{6} \\operatorname{v_{2}}{\\left(r \\right)} - 445.466239746537 r^{6} \\operatorname{w_{1}}{\\left(r \\right)} - 1005.30964914873 r^{6} \\operatorname{w_{2}}{\\left(r \\right)} + 222.733119873268 r^{5} \\sqrt{r^{2} - 1.0} \\operatorname{b_{1}}{\\left(r \\right)} + 125.663706143592 r^{5} \\sqrt{r^{2} - 1.0} \\operatorname{b_{2}}{\\left(r \\right)} + 222.733119873268 r^{5} \\sqrt{r^{2} - 1.0} \\operatorname{l_{1}}{\\left(r \\right)} - 628.318530717959 r^{5} \\sqrt{r^{2} - 1.0} \\operatorname{l_{2}}{\\left(r \\right)} + 445.466239746537 r^{5} \\sqrt{r^{2} - 1.0} \\operatorname{v_{1}}{\\left(r \\right)} + 502.654824574367 r^{5} \\sqrt{r^{2} - 1.0} \\operatorname{v_{2}}{\\left(r \\right)} - 445.466239746537 r^{5} \\sqrt{r^{2} - 1.0} \\operatorname{w_{1}}{\\left(r \\right)} - 668.199359619805 r^{5} \\operatorname{b_{1}}{\\left(r \\right)} + 1507.9644737231 r^{5} \\operatorname{b_{2}}{\\left(r \\right)} - 668.199359619805 r^{5} \\operatorname{l_{1}}{\\left(r \\right)} - 502.654824574367 r^{5} \\operatorname{l_{2}}{\\left(r \\right)} + 1781.86495898615 r^{5} \\operatorname{v_{1}}{\\left(r \\right)} - 1005.30964914873 r^{5} \\operatorname{v_{2}}{\\left(r \\right)} + 1458.11771178284 r^{4} \\sqrt{r^{2} - 1.0} \\operatorname{b_{1}}{\\left(r \\right)} - 502.654824574367 r^{4} \\sqrt{r^{2} - 1.0} \\operatorname{b_{2}}{\\left(r \\right)} + 323.747247203308 r^{4} \\sqrt{r^{2} - 1.0} \\operatorname{l_{1}}{\\left(r \\right)} + 502.654824574367 r^{4} \\sqrt{r^{2} - 1.0} \\operatorname{l_{2}}{\\left(r \\right)} - 890.932479493073 r^{4} \\sqrt{r^{2} - 1.0} \\operatorname{v_{1}}{\\left(r \\right)} + 1005.30964914873 r^{4} \\sqrt{r^{2} - 1.0} \\operatorname{v_{2}}{\\left(r \\right)} - 890.932479493073 r^{4} \\sqrt{r^{2} - 1.0} \\operatorname{w_{1}}{\\left(r \\right)} + 1005.30964914873 r^{4} \\sqrt{r^{2} - 1.0} \\operatorname{w_{2}}{\\left(r \\right)} + 283.592616144883 r^{4} \\operatorname{b_{1}}{\\left(r \\right)} + 251.327412287183 r^{4} \\operatorname{b_{2}}{\\left(r \\right)} - 283.592616144883 r^{4} \\operatorname{l_{1}}{\\left(r \\right)} - 251.327412287183 r^{4} \\operatorname{l_{2}}{\\left(r \\right)} - 121.718992543228 r^{4} \\operatorname{v_{1}}{\\left(r \\right)} + 502.654824574367 r^{4} \\operatorname{v_{2}}{\\left(r \\right)} + 1012.6514720363 r^{4} \\operatorname{w_{1}}{\\left(r \\right)} + 1005.30964914873 r^{4} \\operatorname{w_{2}}{\\left(r \\right)} + 502.654824574367 r^{3} \\sqrt{r^{2} - 1.0} \\operatorname{b_{2}}{\\left(r \\right)} + 1256.63706143592 r^{3} \\sqrt{r^{2} - 1.0} \\operatorname{l_{2}}{\\left(r \\right)} - 251.327412287183 r^{3} \\sqrt{r^{2} - 1.0} \\operatorname{v_{2}}{\\left(r \\right)} - 1507.9644737231 r^{3} \\operatorname{b_{2}}{\\left(r \\right)} - 502.654824574367 r^{3} \\operatorname{l_{2}}{\\left(r \\right)} + 1507.9644737231 r^{3} \\operatorname{v_{2}}{\\left(r \\right)} + 502.654824574367 r^{3} \\operatorname{w_{2}}{\\left(r \\right)} - 567.185232289765 r^{2} \\sqrt{r^{2} - 1.0} \\operatorname{b_{1}}{\\left(r \\right)} + 567.185232289765 r^{2} \\sqrt{r^{2} - 1.0} \\operatorname{l_{1}}{\\left(r \\right)} + 567.185232289765 r^{2} \\sqrt{r^{2} - 1.0} \\operatorname{v_{1}}{\\left(r \\right)} - 567.185232289765 r^{2} \\sqrt{r^{2} - 1.0} \\operatorname{w_{1}}{\\left(r \\right)} + 567.185232289765 r^{2} \\operatorname{v_{1}}{\\left(r \\right)} - 567.185232289765 r^{2} \\operatorname{w_{1}}{\\left(r \\right)} - 628.318530717959 r \\sqrt{r^{2} - 1.0} \\operatorname{b_{2}}{\\left(r \\right)} - 628.318530717959 r \\sqrt{r^{2} - 1.0} \\operatorname{l_{2}}{\\left(r \\right)} - 125.663706143592 r \\sqrt{r^{2} - 1.0} \\operatorname{v_{2}}{\\left(r \\right)} - 125.663706143592 r \\sqrt{r^{2} - 1.0} \\operatorname{w_{2}}{\\left(r \\right)} + 502.654824574367 r \\operatorname{b_{2}}{\\left(r \\right)} + 502.654824574367 r \\operatorname{l_{2}}{\\left(r \\right)} - 502.654824574367 r \\operatorname{v_{2}}{\\left(r \\right)} - 502.654824574367 r \\operatorname{w_{2}}{\\left(r \\right)}\\right)}{Kn r^{4} \\left(r^{2} - \\left(r^{2} - 1.0\\right)^{0.5} - 1.0\\right)}$"
      ],
      "text/plain": [
       "0.000994718394324346*(890.932479493073*Kn*r**7*Derivative(w2(r), r) - 890.932479493073*Kn*r**6*sqrt(r**2 - 1.0)*Derivative(w2(r), r) + 89.0932479493073*Kn*r**6*w2(r) - 467.739551733863*Kn*r**6*w3(r) + 445.466239746537*Kn*r**6*w3(r)/cos(\\alpha)**2 - 89.0932479493073*Kn*r**5*sqrt(r**2 - 1.0)*w2(r) + 467.739551733863*Kn*r**5*sqrt(r**2 - 1.0)*w3(r) - 445.466239746537*Kn*r**5*sqrt(r**2 - 1.0)*w3(r)/cos(\\alpha)**2 - 1336.39871923961*Kn*r**5*sqrt(r**2 - 1.0)*Derivative(w2(r), r) - 502.654824574367*Kn*r**5*w1(r) - 1781.86495898615*Kn*r**5*Derivative(w2(r), r) - 668.199359619805*Kn*r**4*sqrt(r**2 - 1.0)*w2(r) - 44.5466239746537*Kn*r**4*w2(r) + 233.869775866932*Kn*r**4*w3(r) - 222.733119873268*Kn*r**4*w3(r)/cos(\\alpha)**2 + 1336.39871923961*Kn*r**3*sqrt(r**2 - 1.0)*Derivative(w2(r), r) + 890.932479493073*Kn*r**3*Derivative(w2(r), r) - 334.099679809902*Kn*r**2*sqrt(r**2 - 1.0)*w2(r) + 417.624599762378*Kn*r**2*sqrt(r**2 - 1.0)*w3(r) - 334.099679809902*Kn*r**2*sqrt(r**2 - 1.0)*w3(r)/cos(\\alpha)**2 - 512.286175708517*Kn*r**2*w2(r) + 350.804663800398*Kn*r**2*w3(r) - 222.733119873268*Kn*r**2*w3(r)/cos(\\alpha)**2 + 467.739551733863*Kn*sqrt(r**2 - 1.0)*w2(r) - 116.934887933466*Kn*sqrt(r**2 - 1.0)*w3(r) + 467.739551733863*Kn*w2(r) - 116.934887933466*Kn*w3(r) - 3563.72991797229*\\theta*r**7*w1(r) + 3563.72991797229*\\theta*r**6*sqrt(r**2 - 1.0)*w1(r) + 2010.61929829747*\\theta*r**6*w2(r) + 1781.86495898615*\\theta*r**5*sqrt(r**2 - 1.0)*w1(r) + 3563.72991797229*\\theta*r**5*w1(r) - 2010.61929829747*\\theta*r**4*sqrt(r**2 - 1.0)*w2(r) - 2010.61929829747*\\theta*r**4*w2(r) + 668.199359619805*r**7*b1(r) - 502.654824574367*r**7*b2(r) + 668.199359619805*r**7*l1(r) + 502.654824574367*r**7*l2(r) - 1781.86495898615*r**7*v1(r) - 668.199359619805*r**6*sqrt(r**2 - 1.0)*b1(r) + 502.654824574367*r**6*sqrt(r**2 - 1.0)*b2(r) - 668.199359619805*r**6*sqrt(r**2 - 1.0)*l1(r) - 502.654824574367*r**6*sqrt(r**2 - 1.0)*l2(r) + 1781.86495898615*r**6*sqrt(r**2 - 1.0)*v1(r) - 283.592616144883*r**6*b1(r) - 251.327412287183*r**6*b2(r) + 283.592616144883*r**6*l1(r) + 251.327412287183*r**6*l2(r) - 445.466239746537*r**6*v1(r) - 502.654824574367*r**6*v2(r) - 445.466239746537*r**6*w1(r) - 1005.30964914873*r**6*w2(r) + 222.733119873268*r**5*sqrt(r**2 - 1.0)*b1(r) + 125.663706143592*r**5*sqrt(r**2 - 1.0)*b2(r) + 222.733119873268*r**5*sqrt(r**2 - 1.0)*l1(r) - 628.318530717959*r**5*sqrt(r**2 - 1.0)*l2(r) + 445.466239746537*r**5*sqrt(r**2 - 1.0)*v1(r) + 502.654824574367*r**5*sqrt(r**2 - 1.0)*v2(r) - 445.466239746537*r**5*sqrt(r**2 - 1.0)*w1(r) - 668.199359619805*r**5*b1(r) + 1507.9644737231*r**5*b2(r) - 668.199359619805*r**5*l1(r) - 502.654824574367*r**5*l2(r) + 1781.86495898615*r**5*v1(r) - 1005.30964914873*r**5*v2(r) + 1458.11771178284*r**4*sqrt(r**2 - 1.0)*b1(r) - 502.654824574367*r**4*sqrt(r**2 - 1.0)*b2(r) + 323.747247203308*r**4*sqrt(r**2 - 1.0)*l1(r) + 502.654824574367*r**4*sqrt(r**2 - 1.0)*l2(r) - 890.932479493073*r**4*sqrt(r**2 - 1.0)*v1(r) + 1005.30964914873*r**4*sqrt(r**2 - 1.0)*v2(r) - 890.932479493073*r**4*sqrt(r**2 - 1.0)*w1(r) + 1005.30964914873*r**4*sqrt(r**2 - 1.0)*w2(r) + 283.592616144883*r**4*b1(r) + 251.327412287183*r**4*b2(r) - 283.592616144883*r**4*l1(r) - 251.327412287183*r**4*l2(r) - 121.718992543228*r**4*v1(r) + 502.654824574367*r**4*v2(r) + 1012.6514720363*r**4*w1(r) + 1005.30964914873*r**4*w2(r) + 502.654824574367*r**3*sqrt(r**2 - 1.0)*b2(r) + 1256.63706143592*r**3*sqrt(r**2 - 1.0)*l2(r) - 251.327412287183*r**3*sqrt(r**2 - 1.0)*v2(r) - 1507.9644737231*r**3*b2(r) - 502.654824574367*r**3*l2(r) + 1507.9644737231*r**3*v2(r) + 502.654824574367*r**3*w2(r) - 567.185232289765*r**2*sqrt(r**2 - 1.0)*b1(r) + 567.185232289765*r**2*sqrt(r**2 - 1.0)*l1(r) + 567.185232289765*r**2*sqrt(r**2 - 1.0)*v1(r) - 567.185232289765*r**2*sqrt(r**2 - 1.0)*w1(r) + 567.185232289765*r**2*v1(r) - 567.185232289765*r**2*w1(r) - 628.318530717959*r*sqrt(r**2 - 1.0)*b2(r) - 628.318530717959*r*sqrt(r**2 - 1.0)*l2(r) - 125.663706143592*r*sqrt(r**2 - 1.0)*v2(r) - 125.663706143592*r*sqrt(r**2 - 1.0)*w2(r) + 502.654824574367*r*b2(r) + 502.654824574367*r*l2(r) - 502.654824574367*r*v2(r) - 502.654824574367*r*w2(r))/(Kn*r**4*(r**2 - (r**2 - 1.0)**0.5 - 1.0))"
      ]
     },
     "metadata": {},
     "output_type": "display_data"
    }
   ],
   "source": [
    "display(temp_eqs[0][0])"
   ]
  },
  {
   "cell_type": "code",
   "execution_count": null,
   "id": "private-demographic",
   "metadata": {},
   "outputs": [],
   "source": []
  }
 ],
 "metadata": {
  "kernelspec": {
   "display_name": "Python 3",
   "language": "python",
   "name": "python3"
  },
  "language_info": {
   "codemirror_mode": {
    "name": "ipython",
    "version": 3
   },
   "file_extension": ".py",
   "mimetype": "text/x-python",
   "name": "python",
   "nbconvert_exporter": "python",
   "pygments_lexer": "ipython3",
   "version": "3.7.3"
  }
 },
 "nbformat": 4,
 "nbformat_minor": 5
}

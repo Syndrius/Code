{
 "cells": [
  {
   "cell_type": "markdown",
   "id": "graduate-present",
   "metadata": {},
   "source": [
    "# Welcome to Python\n",
    "\n",
    "Python is one of the most popular programming languages in the world. Programming languages allow humans to 'talk' to computers and is the main tool for data science.\n",
    "\n",
    "Today we want to try and predict if a review for Bubble Tea is a positive or negative review. But first we will introduce some basics:\n",
    "\n",
    "First we will 'print' something, press shift and enter on the following cell:"
   ]
  },
  {
   "cell_type": "code",
   "execution_count": null,
   "id": "leading-possible",
   "metadata": {},
   "outputs": [],
   "source": [
    "print(\"Hello world!\")"
   ]
  },
  {
   "cell_type": "markdown",
   "id": "authentic-clause",
   "metadata": {},
   "source": [
    "The 'print' command outputs whatever is inside. \n",
    "Notice the quotes \"\" around the words, this tells python that Hello world! is a string.\n",
    "A string is a type of variable in python. There are many different variable types in python, the most common are Integers (or ints) which are whole numbers (5, 27, 0, -19 etc), floats which are decimal numbers (0.2, -6.1, 22.9 etc) and strings which are anything surrounded by \" \". All of these variable can be printed by the 'print' command:"
   ]
  },
  {
   "cell_type": "code",
   "execution_count": null,
   "id": "interstate-overhead",
   "metadata": {},
   "outputs": [],
   "source": [
    "print(26)\n",
    "print(-0.5)"
   ]
  },
  {
   "cell_type": "markdown",
   "id": "dental-contents",
   "metadata": {},
   "source": [
    "We can also asign these values to a variable:"
   ]
  },
  {
   "cell_type": "code",
   "execution_count": null,
   "id": "union-alfred",
   "metadata": {},
   "outputs": [],
   "source": [
    "my_integer = 10\n",
    "my_float = 12.4\n",
    "my_string = \"Hello\"\n",
    "\n",
    "print(my_integer)\n",
    "print(my_float)\n",
    "print(my_string)"
   ]
  },
  {
   "cell_type": "markdown",
   "id": "coupled-detector",
   "metadata": {},
   "source": [
    "Note that python is very particular when it comes to spelling! Try running the next cell and see what happens!"
   ]
  },
  {
   "cell_type": "code",
   "execution_count": 5,
   "id": "charming-philip",
   "metadata": {},
   "outputs": [
    {
     "ename": "NameError",
     "evalue": "name 'my_variabel' is not defined",
     "output_type": "error",
     "traceback": [
      "\u001b[0;31m---------------------------------------------------------------------------\u001b[0m",
      "\u001b[0;31mNameError\u001b[0m                                 Traceback (most recent call last)",
      "\u001b[0;32m<ipython-input-5-1bc44e90f219>\u001b[0m in \u001b[0;36m<module>\u001b[0;34m\u001b[0m\n\u001b[1;32m      1\u001b[0m \u001b[0mmy_variable\u001b[0m \u001b[0;34m=\u001b[0m \u001b[0;36m34\u001b[0m\u001b[0;34m\u001b[0m\u001b[0;34m\u001b[0m\u001b[0m\n\u001b[1;32m      2\u001b[0m \u001b[0;34m\u001b[0m\u001b[0m\n\u001b[0;32m----> 3\u001b[0;31m \u001b[0mprint\u001b[0m\u001b[0;34m(\u001b[0m\u001b[0mmy_variabel\u001b[0m\u001b[0;34m)\u001b[0m \u001b[0;31m#please fix!\u001b[0m\u001b[0;34m\u001b[0m\u001b[0;34m\u001b[0m\u001b[0m\n\u001b[0m",
      "\u001b[0;31mNameError\u001b[0m: name 'my_variabel' is not defined"
     ]
    }
   ],
   "source": [
    "my_variable = 34\n",
    "\n",
    "print(my_variabel) #please fix!"
   ]
  },
  {
   "cell_type": "markdown",
   "id": "above-credits",
   "metadata": {},
   "source": [
    "This produces an error. Try and fix the code snippet yourself then press shift and enter again to rerun it.\n",
    "\n",
    "The green text that follows the # is known as a comment, python will ignore any comments, they are there to help humans!\n",
    "\n",
    "Now that we understand variables lets see what we can do with them. Python can do all of the standard maths operations. We have addition '+', subtraction '-', multiplication '*', division '/' and many more! Lets try it out:"
   ]
  },
  {
   "cell_type": "code",
   "execution_count": null,
   "id": "architectural-graphics",
   "metadata": {},
   "outputs": [],
   "source": [
    "my_integer = 5\n",
    "print(10*4)\n",
    "print(27/my_integer)\n",
    "print(24+my_integer-(63+7)/4 + my_integer*(10-273))"
   ]
  },
  {
   "cell_type": "markdown",
   "id": "fitting-numbers",
   "metadata": {},
   "source": [
    "Another very useful tool in python is lists. Lists are exactly what you would expect, they are a list of other variables, they can be a list of numbers, strings etc or even any combination of them! This is how lists are defined in python:"
   ]
  },
  {
   "cell_type": "code",
   "execution_count": null,
   "id": "buried-resort",
   "metadata": {},
   "outputs": [],
   "source": [
    "my_list = [6, 47, 3, 5, 'cat', 6.4]\n",
    "print(my_list)"
   ]
  },
  {
   "cell_type": "markdown",
   "id": "federal-pacific",
   "metadata": {},
   "source": [
    "To access values in a list we can use list indexing:"
   ]
  },
  {
   "cell_type": "code",
   "execution_count": null,
   "id": "union-kenya",
   "metadata": {},
   "outputs": [],
   "source": [
    "print(my_list[0])\n",
    "print(my_list[1])\n",
    "print(my_list[2])\n",
    "print(my_list[4])\n",
    "print(my_list[22])"
   ]
  },
  {
   "cell_type": "markdown",
   "id": "handy-highway",
   "metadata": {},
   "source": [
    "Note that the first element of a list is indexed by 0, not by 1! Also any index that is outside the size of the list will give us an error. We can also add and remove items from lists:"
   ]
  },
  {
   "cell_type": "code",
   "execution_count": null,
   "id": "critical-number",
   "metadata": {},
   "outputs": [],
   "source": [
    "print(my_list)\n",
    "my_list.append('dog')\n",
    "print(my_list)\n",
    "my_list.remove(3)\n",
    "print(my_list)"
   ]
  },
  {
   "cell_type": "markdown",
   "id": "earned-pierre",
   "metadata": {},
   "source": [
    "There are plenty more things you can do with a list, feel free to look them up, google is your best friend when you are programming!\n",
    "We can also use loops to make dealing with lists easier. A loop will 'loop' through a set of values and let you access them one at a time:"
   ]
  },
  {
   "cell_type": "code",
   "execution_count": null,
   "id": "lovely-difficulty",
   "metadata": {},
   "outputs": [],
   "source": [
    "for element in my_list:\n",
    "    print(element)"
   ]
  },
  {
   "cell_type": "markdown",
   "id": "indirect-connectivity",
   "metadata": {},
   "source": [
    "Note the syntax when using a loop. We are saying for each element in this list, print out the element. We don't have to loop through lists only, we can also loop through numbers using the 'range' command:"
   ]
  },
  {
   "cell_type": "code",
   "execution_count": null,
   "id": "accurate-marriage",
   "metadata": {},
   "outputs": [],
   "source": [
    "for i in range(5):\n",
    "    print(i)"
   ]
  },
  {
   "cell_type": "markdown",
   "id": "manufactured-aggregate",
   "metadata": {},
   "source": [
    "The 'i' is a placeholder to represent the numbers we are looping through, 'i' is a common choice but you can choose anything!\n",
    "Again we find that python likes to start counting from 0! This is something you will have to get used to! Now it is your turn to try. \n",
    "Print out every **even** number between 0 and 20."
   ]
  },
  {
   "cell_type": "code",
   "execution_count": null,
   "id": "continuing-account",
   "metadata": {},
   "outputs": [],
   "source": [
    "#your code here!"
   ]
  },
  {
   "cell_type": "markdown",
   "id": "quick-cooling",
   "metadata": {},
   "source": [
    "If you managed to get this to work, you are now a certified programmer and will be working in Sillicon Valley in no time!\n",
    "\n",
    "We can also add conditions to our loops:"
   ]
  },
  {
   "cell_type": "code",
   "execution_count": null,
   "id": "latter-executive",
   "metadata": {},
   "outputs": [],
   "source": [
    "for i in range(5):\n",
    "    if i > 2:\n",
    "        print(i)\n",
    "    else:\n",
    "        print(\"Number is not big enough!\")"
   ]
  },
  {
   "cell_type": "markdown",
   "id": "detailed-television",
   "metadata": {},
   "source": [
    "This loops from 0 to 4 and will print the number out only if it is bigger than 2, otherwise it tells us the number is not big enough! \n",
    "Lets see if you can print the numbers between 0 and 10, but only the number 3 and the numbers greater than 6. Hint you can check if a variable equals something by using '==', try changing the code above by swapping the '>' with '==' and see what you get."
   ]
  },
  {
   "cell_type": "code",
   "execution_count": null,
   "id": "clear-huntington",
   "metadata": {},
   "outputs": [],
   "source": [
    "#your code here!"
   ]
  },
  {
   "cell_type": "markdown",
   "id": "chubby-publicity",
   "metadata": {},
   "source": [
    "To help us predict our reviews we need to be able to count the number of words in a string. There are a few ways to do it, so feel free to look up another way, but this will help you with the next part."
   ]
  },
  {
   "cell_type": "code",
   "execution_count": null,
   "id": "unable-reception",
   "metadata": {},
   "outputs": [],
   "source": [
    "string_to_count = 'This is a string with some words to count'\n",
    "\n",
    "#the split() at the end splits the string into a list of words\n",
    "list_of_words = string_to_count.split()\n",
    "\n",
    "\n",
    "#this is our initial number of words\n",
    "count = 0\n",
    "\n",
    "for word in list_of_words:\n",
    "    \n",
    "    #the += means keep the original value but then add 1 to it\n",
    "    count += 1\n",
    "\n",
    "\n",
    "#finally we print out the value we found!\n",
    "print(count)\n"
   ]
  },
  {
   "cell_type": "markdown",
   "id": "seeing-request",
   "metadata": {},
   "source": [
    "Now we can start working on our predictions! We have a list of strings, where each string is a review of Bubble Tea, we want to predict if the review is a positive or negative review. \n",
    "To do this you will create a list words that you think will appear in a positive review and a list of words that you think will appear in a negative review.\n",
    "Then you will loop through each review and count how many words are in your negative list and how many are in your positive list. First we need the lists:"
   ]
  },
  {
   "cell_type": "code",
   "execution_count": null,
   "id": "resistant-effect",
   "metadata": {},
   "outputs": [],
   "source": [
    "#create your lists here\n",
    "\n",
    "positive_list = []\n",
    "negative_list = []"
   ]
  },
  {
   "cell_type": "markdown",
   "id": "roman-kitty",
   "metadata": {},
   "source": [
    "Lets start with a single review and see if we can verify that it is a positive review. First some code that might help you out, see if you can understand what it does:"
   ]
  },
  {
   "cell_type": "code",
   "execution_count": null,
   "id": "dying-reminder",
   "metadata": {},
   "outputs": [],
   "source": [
    "list_of_numbers = [1, 21, 9, 12, 26, 3]\n",
    "\n",
    "number_count = 0\n",
    "\n",
    "for i in range(15):\n",
    "    if i in list_of_numbers:\n",
    "        number_count += 1\n",
    "\n",
    "print(number_count)"
   ]
  },
  {
   "cell_type": "markdown",
   "id": "hungarian-birth",
   "metadata": {},
   "source": [
    "Now your turn, if the review is positive, you should print 'Positive' at the end:"
   ]
  },
  {
   "cell_type": "code",
   "execution_count": null,
   "id": "intimate-pencil",
   "metadata": {},
   "outputs": [],
   "source": [
    "test_review = 'It tastes good as.'\n",
    "\n",
    "#your code here"
   ]
  },
  {
   "cell_type": "markdown",
   "id": "regulation-benjamin",
   "metadata": {},
   "source": [
    "Now lets try it for all of the reviews, a hint for this is that you can put a loop inside another loop! Append your predictions (Positive or Negative) to the predictions list below!"
   ]
  },
  {
   "cell_type": "code",
   "execution_count": null,
   "id": "invisible-courtesy",
   "metadata": {},
   "outputs": [],
   "source": [
    "reviews = ['Best drink, it taste good and is dope', 'The drink is quite different to most other sweet drinks.', 'expensive ', 'It tastes good as.', 'Because sometimes the amount of sugar and unhealthy contents is too much(depending on the type)', \"Drink what you want, I don't care\", 'It is very unhealthy. The chewy boba balls could cause indigestion as they can get stuck in your digestive system and not digest properly.', 'it taste good', 'I Like the taste of the tea', 'Has a very unique taste', \"I don't like the taste of the tea personally.\", 'Bubble tea has a very distinctive taste compared to other beverages. ', 'Bubble tea tastes very different to other things.', 'Strengthens immune system, lots of antioxidants', 'It has a very high sugar content more often than not.', 'i wouldnt', 'There is too much sugar', 'because the bubbles are too slimy adn bit uncomfotable', 'Bubble tea is an enjoyable drink that is a must try.', \"It's not popular amongst some people due to its different taste.\", 'VERY EXPENSIVE, expect to pay $6+ for a drink and also contains a lot of sugar so is not a healthy choice. ', 'One can get addicted.', 'Unhealthy', 'i would not not recommend it', \"It's a bit expensive.\", 'Bubble tea tastes nice.', 'A lot of people do not like bubble tea because of its unique flavour.', 'Bubble tea is not always very healthy because it might have too much sugar.', 'it is tasty', 'Overpriced ', 'because it tastes good', 'I have not had it', 'fat straw', 'It tastes good.', 'taste is delicious', 'Bubble tea tastes good', 'It tastes great and has the nice bubbly texture which is fun.', 'It is very tasty', 'I would recommend it because it is a unique beverage and it tastes nice', \"It is exquisite and its unique and defining texture between its chewy pearls and sweet milk create an indescribable masterpiece that lingers in one's tastebuds.\", \"I wouldn't recommend it to anyone as normal tea is better\", 'I would never write a negative comment about bubble tea, it is the greatest drink.', 'balls', 'It tastes nice', \"I wouldn't recommend it\", 'Lots of sugar', 'havent tried', 'The price pretty costly', 'Unique taste, must try if you have never had one. ', 'Because it is tasty and unique drink.', 'Bubble tea is not so healthy', \"It's something that everyone should try at least once; the pearls in bubble tea make drinking it an experience different from other teas.\", 'it is too sweet and it a has a fair pricetag', 'There is no reason. ', 'havent tried', 'its unhealthy expensive', 'i wouldnt because it just tastes like sugar', 'Bubble tea is overpriced.', 'I have not had it', 'its tastes good ', 'All the weebs drink it because they think it makes them cool', 'Tastes good', 'Lots of sugar, prone to chronic diseases', \"its disgusting. It is warm and yucky. Too much sugar and milk are mixed to create a disgusting froth. The tapioca balls don't complement the tea at all.\", 'It is too expensive.', 'It tastes really good and the texture of the pearls as they are being chewed is amazing.', 'Again, I have never had it, therefore I cannot give an opinion. ', 'unhealthy and high in sugar/carbs with close to no nutritional value', 'The bubbles feel good in your mouth.', 'They have lots of sugar and are probably unhealthy if consumed a lot', 'mm yummy', 'expensive', 'It can be expensive.', 'Some people would find various flavours and toppings not appealing.', \"It can be very expensive depending on which shop you buy it from and it's can also be a bit sugary.\", 'tastes like sugar', 'it is extremely expensive', 'Can be a bit expensive and has heaps of sugar.', \"It's a good drink with tons of flavour rather than just plain iced tea or soft drinks\", 'Never had bubble tea', 'Because there are a variety of flavours, including many exotic such as lychee, durian or jackfruit.', \"I have never had bubble tea before so I don't know what it tastes like and I cannot recommend.\"]\n",
    "predictions = []\n",
    "# your final prodictions should be in the form ['Negative', 'Positive', 'Positive', ....]\n",
    "\n",
    "# your code here:\n"
   ]
  },
  {
   "cell_type": "markdown",
   "id": "sought-moisture",
   "metadata": {},
   "source": [
    "This cell will calculate how many of the reviews you predicted correctly, once you have made a prediction for every review run it and see how you did!"
   ]
  },
  {
   "cell_type": "code",
   "execution_count": null,
   "id": "worse-provision",
   "metadata": {},
   "outputs": [],
   "source": [
    "vals = [1, 1, 0, 1, 0, 1, 0, 1, 1, 1, 0, 1, 1, 1, 0, 1, 0, 0, 1, 0, 0, 0, 0, 0, 0, 1, 0, 0, 1, 0, 1, 1, 0, 1, 1, 1, 1, 1, 1, 1, 1, 0, 1, 1, 1, 0, 0, 0, 1, 1, 0, 1, 0, 0, 1, 0, 1, 0, 0, 1, 0, 1, 0, 0, 0, 1, 0, 0, 1, 0, 1, 0, 0, 0, 0, 0, 0, 0, 1, 1, 1, 1]\n",
    "\n",
    "\n",
    "pred_vals = [1  if x.lower()=='positive' else 0 for x in predictions ]\n",
    "result = [1 if vals[i]==pred_vals[i] else 0 for i in range(len(pred_vals))]\n",
    "\n",
    "print(f\"You correctly predicted {100*sum(result)/len(result)}% of the reviews!\")"
   ]
  },
  {
   "cell_type": "code",
   "execution_count": null,
   "id": "governing-bhutan",
   "metadata": {},
   "outputs": [],
   "source": []
  }
 ],
 "metadata": {
  "kernelspec": {
   "display_name": "Python 3",
   "language": "python",
   "name": "python3"
  },
  "language_info": {
   "codemirror_mode": {
    "name": "ipython",
    "version": 3
   },
   "file_extension": ".py",
   "mimetype": "text/x-python",
   "name": "python",
   "nbconvert_exporter": "python",
   "pygments_lexer": "ipython3",
   "version": "3.7.3"
  }
 },
 "nbformat": 4,
 "nbformat_minor": 5
}

{
 "cells": [
  {
   "cell_type": "code",
   "execution_count": 1,
   "id": "hispanic-grass",
   "metadata": {},
   "outputs": [],
   "source": [
    "from sympy import *\n",
    "import numpy as np\n",
    "import matplotlib.pyplot as plt"
   ]
  },
  {
   "cell_type": "code",
   "execution_count": 2,
   "id": "opening-smith",
   "metadata": {},
   "outputs": [
    {
     "data": {
      "text/latex": [
       "$\\displaystyle c_{x} c_{y}^{2} \\operatorname{v_{3}}{\\left(y \\right)} + c_{x} c_{y} \\operatorname{v_{2}}{\\left(y \\right)} + c_{x} \\operatorname{v_{1}}{\\left(y \\right)}$"
      ],
      "text/plain": [
       "c_x*c_y**2*v3(y) + c_x*c_y*v2(y) + c_x*v1(y)"
      ]
     },
     "metadata": {},
     "output_type": "display_data"
    },
    {
     "data": {
      "text/latex": [
       "$\\displaystyle - c_{x} c_{y}^{2} \\operatorname{v_{3}}{\\left(y \\right)} + c_{x} c_{y} \\operatorname{v_{2}}{\\left(y \\right)} - c_{x} \\operatorname{v_{1}}{\\left(y \\right)}$"
      ],
      "text/plain": [
       "-c_x*c_y**2*v3(y) + c_x*c_y*v2(y) - c_x*v1(y)"
      ]
     },
     "metadata": {},
     "output_type": "display_data"
    },
    {
     "data": {
      "text/plain": [
       "[v1(y), v2(y), v3(y), b1(y), b2(y), b3(y)]"
      ]
     },
     "metadata": {},
     "output_type": "display_data"
    },
    {
     "data": {
      "text/plain": [
       "[vd1(y), vd2(y), vd3(y), bd1(y), bd2(y), bd3(y)]"
      ]
     },
     "metadata": {},
     "output_type": "display_data"
    }
   ],
   "source": [
    "#size is the number of trial functions in each region\n",
    "size = 3\n",
    "steps = 300\n",
    "\n",
    "c_x, c_y, c_z, y, Kn, h = symbols('c_x c_y c_z y Kn h')\n",
    "\n",
    "vs = symbols('v1:%d'%(size+1)) \n",
    "bs = symbols('b1:%d'%(size+1))\n",
    "\n",
    "#maybe change the name of this shite\n",
    "v_derivs = symbols('vd1:%d'%(size+1)) \n",
    "b_derivs = symbols('bd1:%d'%(size+1))\n",
    "\n",
    "vs = [Function(x)(y) for x in vs]\n",
    "bs = [Function(x)(y) for x in bs]\n",
    "\n",
    "v_derivs = [Function(x)(y) for x in v_derivs]  #used for finite difference\n",
    "b_derivs = [Function(x)(y) for x in b_derivs]\n",
    "\n",
    "terms = vs+bs\n",
    "deriv_terms = v_derivs+b_derivs\n",
    "\n",
    "\n",
    "\n",
    "\n",
    "ec = exp(-(c_x**2+c_y**2+c_z**2))\n",
    "\n",
    "h1 = 0\n",
    "h2 = 0\n",
    "\n",
    "for i in range(size):\n",
    "    h1 += c_x*c_y**i*vs[i] #lower boundary, c_y > 0\n",
    "    h2 += c_x*c_y**i*bs[i] #top boundary, c_y < 0\n",
    "\n",
    "h1n = h1.subs([(c_x, -c_x),(c_y, -c_y), (c_z, -c_z)])\n",
    "h2n = h2.subs([(c_x, -c_x),(c_y, -c_y), (c_z, -c_z)])\n",
    "\n",
    "display(h1)\n",
    "display(h1n)\n",
    "display(terms)\n",
    "display(deriv_terms)\n",
    "\n"
   ]
  },
  {
   "cell_type": "code",
   "execution_count": 3,
   "id": "sporting-processing",
   "metadata": {},
   "outputs": [],
   "source": [
    "u_x = (pi**(-3/2)*integrate(c_x*h1*ec, (c_x, -oo, oo), (c_y, 0, oo), (c_z, -oo, oo)) +\n",
    "       pi**(-3/2)*integrate(c_x*h2*ec, (c_x, -oo, oo), (c_y, -oo, 0), (c_z, -oo, oo)))\n",
    "\n",
    "#simple boundary condition with no temperature or density perturbation\n",
    "L_1 = -2 *c_x*u_x.simplify() - h1n # c_y < 0\n",
    "L_2 = -2 *c_x*u_x.simplify() - h2n # c_y > 0\n",
    "\n",
    "#inner product for c_y < 0\n",
    "ip1 = h2*(-Kn*c_y*diff(h1n, y)-L_1)*ec\n",
    "\n",
    "#inner product for c_y > 0\n",
    "ip2 = h1*(-Kn*c_y*diff(h2n, y)-L_2)*ec\n",
    "\n"
   ]
  },
  {
   "cell_type": "code",
   "execution_count": 4,
   "id": "demonstrated-portal",
   "metadata": {},
   "outputs": [],
   "source": [
    "M = integrate(ip1, (c_x, -oo, oo), (c_y, -oo, 0), (c_z, -oo, oo)) + integrate(ip2, (c_x, -oo, oo), (c_y, 0, oo), (c_z, -oo, oo))\n",
    "ee = euler_equations(M, terms, (y))"
   ]
  },
  {
   "cell_type": "code",
   "execution_count": 5,
   "id": "naval-subscriber",
   "metadata": {},
   "outputs": [],
   "source": [
    "#change this to a more professional name!\n",
    "terms_to_sub = []\n",
    "\n",
    "for i in range(size):\n",
    "    terms_to_sub.append((Derivative(vs[i], y), (vs[i]-v_derivs[i])/h))\n",
    "    terms_to_sub.append((Derivative(bs[i], y), (b_derivs[i] - bs[i])/h))\n",
    "    \n",
    "\n",
    "for i in range(2*size):\n",
    "    ee[i] = ee[i].subs(terms_to_sub)\n",
    "    \n",
    "    \n",
    "diff_eqs = solve(ee, deriv_terms)"
   ]
  },
  {
   "cell_type": "code",
   "execution_count": 6,
   "id": "amateur-inspector",
   "metadata": {},
   "outputs": [
    {
     "data": {
      "image/png": "[encoded data removed]",
      "text/plain": [
       "<Figure size 432x288 with 1 Axes>"
      ]
     },
     "metadata": {
      "needs_background": "light"
     },
     "output_type": "display_data"
    }
   ],
   "source": [
    "\n",
    "num_funcs = 2*size\n",
    "\n",
    "BCs = []\n",
    "#adds the rows that contain the boundary conditions!\n",
    "for i in range(size):\n",
    "    BCs.append(i*steps)\n",
    "\n",
    "for i in range(size, 2*size):\n",
    "    BCs.append((i+1)*steps-1)\n",
    "    \n",
    "\n",
    "A = np.zeros((num_funcs*steps, num_funcs*steps))\n",
    "\n",
    "x = np.zeros(num_funcs*steps)\n",
    "\n",
    "#needs to be altered for more general boundary conditions!\n",
    "x[(size+1)*steps-1] = 2 #non zero boundary condition -> needs to be automated\n",
    "\n",
    "#giving these the same name messes up subs()!\n",
    "h_val = 1/(steps-1)\n",
    "\n",
    "kn_val = 1\n",
    "\n",
    "\n",
    "\n",
    "coeffs = []\n",
    "\n",
    "\n",
    "for i in deriv_terms:\n",
    "    #display(diff_eqs[i])\n",
    "    diff_eqs[i] = diff_eqs[i].subs([(Kn, kn_val), (h, h_val)])\n",
    "\n",
    "\n",
    "#won't need coeffs for deriv terms as that should always be 1 due to the solving method!\n",
    "for i in deriv_terms:\n",
    "    #display(diff_eqs[i])\n",
    "    #diff_eqs[i] = diff_eqs[i].subs([(Kn, kn_val), (h, h_val)])\n",
    "    coeffs.append(Poly(diff_eqs[i], terms).coeffs())\n",
    "    #display(coeffs[-1])\n",
    "\n",
    "\n",
    "#maybe split this into two loops? one for the vs and one for the bs?\n",
    "#display(coeffs[1][1].evalf())\n",
    "\n",
    "#could just apply boundary conditions at the end???? may be way easier! just replace entire row with zeros then sub in 1 at bc val\n",
    "\n",
    "\n",
    "#get this to work then see if it is quicker to create each 'block' of the matrix first then smash them together\n",
    "#each block should be mainly diagonal so could be much quicker!\n",
    "#dont think the matrix creation is much of a bottleneck though!\n",
    "\n",
    "for i in range(int(num_funcs/2)):#num funcs should always be an integer? would it be better if num funcs was how many funcs in each region?\n",
    "    #display(A) \n",
    "    \n",
    "    for j in range(num_funcs):\n",
    "    \n",
    "        for k in range(i*steps, (i+1)*steps):\n",
    "            #print(i, j, k)\n",
    "            #print(A)\n",
    "            #print(coeffs[i][j])\n",
    "            A[k][k+j*steps- i*steps] = coeffs[i][j]\n",
    "\n",
    "            \n",
    "#adds the deriv terms\n",
    "for i in range(int(num_funcs/2)):\n",
    "    for k in range(i*steps, (i+1)*steps):\n",
    "        A[k][k-1] = -1\n",
    "\n",
    "        \n",
    "#display(A) \n",
    "          \n",
    "for i in range(int(num_funcs/2), num_funcs):\n",
    "    for j in range(num_funcs):\n",
    "    \n",
    "        for k in range(i*steps, (i+1)*steps):\n",
    "            #print(i, j, k)\n",
    "            #print(A)\n",
    "            \n",
    "            A[k][k+j*steps- i*steps] = coeffs[i][j]\n",
    "            \n",
    "for i in range(int(num_funcs/2), num_funcs):\n",
    "    for k in range(i*steps, (i+1)*steps):\n",
    "        \n",
    "        #filthy but this works!\n",
    "        if not k == steps*num_funcs-1:\n",
    "            #print(k)\n",
    "            A[k][k+1] = -1\n",
    "        \n",
    "#display(A)\n",
    "\n",
    "for i in BCs:\n",
    "    A[i] = np.zeros(num_funcs*steps)\n",
    "    A[i][i] = 1\n",
    "    \n",
    "#print(A)\n",
    "\n",
    "\n",
    "vb = np.linalg.solve(A, x)\n",
    "\n",
    "res = []\n",
    "\n",
    "for i in range(2*size):\n",
    "    res.append(vb[i*steps:(i+1)*steps])\n",
    "\n",
    "\n",
    "#print(b1[-1])\n",
    "#print(v1[0])\n",
    "#print(x)\n",
    "\n",
    "#print(vb)\n",
    "\n",
    "\n",
    "\n",
    "#this needs to be automated big time!\n",
    "#u_2_fin = 1/(4*np.pi**(3/2))*(np.pi**(3/2)*b1 - np.pi*b2 + np.pi**(3/2)*v1 + np.pi*v2)\n",
    "\n",
    "\n",
    "#this works!\n",
    "u_lam = lambdify(terms, u_x)\n",
    "\n",
    "\n",
    "\n",
    "#print(u_2_fin)\n",
    "\n",
    "#print(u_2_fin)\n",
    "\n",
    "y_vals = np.linspace(0,1, steps)\n",
    "#print(y_vals)\n",
    "plt.plot(y_vals, u_lam(*res))\n",
    "#plt.plot(y_vals, u_2_fin)\n",
    "plt.show()"
   ]
  },
  {
   "cell_type": "code",
   "execution_count": null,
   "id": "inappropriate-mixer",
   "metadata": {},
   "outputs": [],
   "source": []
  }
 ],
 "metadata": {
  "kernelspec": {
   "display_name": "Python 3",
   "language": "python",
   "name": "python3"
  },
  "language_info": {
   "codemirror_mode": {
    "name": "ipython",
    "version": 3
   },
   "file_extension": ".py",
   "mimetype": "text/x-python",
   "name": "python",
   "nbconvert_exporter": "python",
   "pygments_lexer": "ipython3",
   "version": "3.7.3"
  }
 },
 "nbformat": 4,
 "nbformat_minor": 5
}
